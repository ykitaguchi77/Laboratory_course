{
  "nbformat": 4,
  "nbformat_minor": 0,
  "metadata": {
    "colab": {
      "provenance": [],
      "authorship_tag": "ABX9TyMEfUTsdEXS+6fbxe3iDzTe",
      "include_colab_link": true
    },
    "kernelspec": {
      "name": "python3",
      "display_name": "Python 3"
    },
    "language_info": {
      "name": "python"
    }
  },
  "cells": [
    {
      "cell_type": "markdown",
      "metadata": {
        "id": "view-in-github",
        "colab_type": "text"
      },
      "source": [
        "<a href=\"https://colab.research.google.com/github/ykitaguchi77/Laboratory_course/blob/master/12.%20web%E3%82%A2%E3%83%97%E3%83%AA%E3%82%92%E4%BD%9C%E3%81%A3%E3%81%A6%E3%81%BF%E3%82%88%E3%81%86.ipynb\" target=\"_parent\"><img src=\"https://colab.research.google.com/assets/colab-badge.svg\" alt=\"Open In Colab\"/></a>"
      ]
    },
    {
      "cell_type": "markdown",
      "source": [
        "#**Streamlit test app**\n",
        "\n",
        "準備：ngrok (https://ngrok.com/) にサインアップして、auth_tokenを取得"
      ],
      "metadata": {
        "id": "mN2YVgvkkPJk"
      }
    },
    {
      "cell_type": "markdown",
      "source": [
        "##**サンプルアプリ**"
      ],
      "metadata": {
        "id": "4Bw-0G1peTcA"
      }
    },
    {
      "cell_type": "code",
      "source": [
        "# 必要なパッケージのインストール\n",
        "!pip install streamlit --q\n",
        "!pip install pyngrok --q\n",
        "\n",
        "import streamlit as st\n",
        "import os\n",
        "from pyngrok import ngrok\n",
        "\n",
        "# シンプルなアプリの作成\n",
        "with open('test_app.py', 'w') as f:\n",
        "    f.write('''\n",
        "import streamlit as st\n",
        "\n",
        "def main():\n",
        "    st.title('テストアプリ')\n",
        "    st.write('これは動作確認用の簡単なアプリです')\n",
        "\n",
        "    # カウンターの初期化\n",
        "    if 'count' not in st.session_state:\n",
        "        st.session_state.count = 0\n",
        "\n",
        "    # ボタンを作成\n",
        "    if st.button('カウントアップ'):\n",
        "        st.session_state.count += 1\n",
        "\n",
        "    # カウントを表示\n",
        "    st.write(f'現在のカウント: {st.session_state.count}')\n",
        "\n",
        "if __name__ == '__main__':\n",
        "    main()\n",
        "''')\n",
        "\n",
        "# Streamlitアプリの起動\n",
        "def run_streamlit():\n",
        "    # ポート設定\n",
        "    port = 8501\n",
        "\n",
        "    # 既存のプロセスを終了\n",
        "    os.system('kill -9 $(lsof -t -i:8501) 2>/dev/null')\n",
        "    print(\"既存のプロセスを終了しました\")\n",
        "\n",
        "    # ngrokの設定\n",
        "    ngrok.set_auth_token(\"2sCdLvAsRQOSaPd9ueedbcUiwun_3r6x2mJeUP1ryELVb3DjE\")  # あなたのトークンを設定\n",
        "\n",
        "    # 既存のトンネルを閉じる\n",
        "    ngrok.kill()\n",
        "\n",
        "    # Streamlitの起動\n",
        "    os.system(f'streamlit run test_app.py --server.port {port} &')\n",
        "\n",
        "    # ngrokトンネルの作成\n",
        "    public_url = ngrok.connect(port, \"http\")\n",
        "    print(f'\\n公開URL: {public_url}')\n",
        "\n",
        "if __name__ == '__main__':\n",
        "    run_streamlit()"
      ],
      "metadata": {
        "collapsed": true,
        "id": "4u3cHm5Hb-BG",
        "outputId": "e3095122-d1ec-42e5-981e-cf074cf48ebe",
        "colab": {
          "base_uri": "https://localhost:8080/"
        }
      },
      "execution_count": null,
      "outputs": [
        {
          "output_type": "stream",
          "name": "stdout",
          "text": [
            "既存のプロセスを終了しました\n",
            "\n",
            "公開URL: NgrokTunnel: \"https://f52e-34-138-175-39.ngrok-free.app\" -> \"http://localhost:8501\"\n"
          ]
        }
      ]
    },
    {
      "cell_type": "code",
      "source": [
        "# Google Driveのマウント\n",
        "from google.colab import drive\n",
        "drive.mount('/content/drive')\n",
        "\n",
        "# 必要なパッケージのインストール\n",
        "!pip install streamlit --q\n",
        "!pip install pyngrok --q\n",
        "import os\n",
        "import random\n",
        "from pyngrok import ngrok\n",
        "import subprocess\n",
        "\n",
        "# Streamlitアプリケーションの作成\n",
        "with open('app.py', 'w') as f:\n",
        "    f.write('''\n",
        "import streamlit as st\n",
        "from PIL import Image\n",
        "import os\n",
        "\n",
        "def main():\n",
        "    st.title('画像表示アプリ')\n",
        "    st.write('bokujyou.jpgを表示します')\n",
        "\n",
        "    # 画像パスの設定\n",
        "    image_path = '/content/drive/MyDrive/AI_laboratory_course/bokujyou.jpg'\n",
        "\n",
        "    try:\n",
        "        # 画像の存在確認と表示\n",
        "        if os.path.exists(image_path):\n",
        "            image = Image.open(image_path)\n",
        "            st.image(image, caption='bokujyou.jpg', use_column_width=True)\n",
        "        else:\n",
        "            st.error(f'指定された画像が見つかりません。パス: {image_path}')\n",
        "            st.write('現在のディレクトリ内のファイル:')\n",
        "            current_dir = os.path.dirname(image_path)\n",
        "            if os.path.exists(current_dir):\n",
        "                files = os.listdir(current_dir)\n",
        "                for file in files:\n",
        "                    st.write(file)\n",
        "            else:\n",
        "                st.error(f'ディレクトリが見つかりません: {current_dir}')\n",
        "\n",
        "    except Exception as e:\n",
        "        st.error(f'画像の読み込み中にエラーが発生しました: {str(e)}')\n",
        "\n",
        "if __name__ == '__main__':\n",
        "    main()\n",
        "''')\n",
        "\n",
        "print(\"\\\\n=== Streamlitアプリの起動とngrokの設定を開始 ===\")\n",
        "\n",
        "# Streamlitアプリの起動とngrokの設定\n",
        "def run_streamlit_with_ngrok():\n",
        "    # ポート設定\n",
        "    port = 8501\n",
        "\n",
        "    # 既存のStreamlitプロセスを終了\n",
        "    try:\n",
        "        subprocess.run('kill -9 $(lsof -t -i:8501)', shell=True, check=True)\n",
        "        print(\"既存のStreamlitプロセスを終了しました\")\n",
        "    except subprocess.CalledProcessError:\n",
        "        print(\"既存のStreamlitプロセスはありません\")\n",
        "\n",
        "    # ngrokの設定\n",
        "    print(\"\\\\n=== ngrokの設定を開始 ===\")\n",
        "    ngrok.set_auth_token('enter ngrok token') # ご自身のトークンに置き換えてください\n",
        "\n",
        "    # 既存のngrokトンネルを閉じる\n",
        "    ngrok.kill()\n",
        "    print(\"既存のngrokトンネルを終了しました\")\n",
        "\n",
        "    # Streamlitの起動\n",
        "    print(\"\\\\n=== Streamlitアプリを起動します ===\")\n",
        "    subprocess.Popen(['streamlit', 'run', 'app.py', '--server.port', str(port)])\n",
        "\n",
        "    # 新しいngrokトンネルを作成\n",
        "    try:\n",
        "        public_url = ngrok.connect(port, \"http\").public_url\n",
        "        print(f'\\\\n=== アプリケーションの準備が完了しました ===')\n",
        "        print(f'公開URL: {public_url}')\n",
        "    except Exception as e:\n",
        "        print(f\"ngrokトンネルの作成中にエラーが発生しました: {str(e)}\")\n",
        "\n",
        "if __name__ == '__main__':\n",
        "    run_streamlit_with_ngrok()"
      ],
      "metadata": {
        "colab": {
          "base_uri": "https://localhost:8080/"
        },
        "id": "sXAASdunlMDW",
        "outputId": "92631e12-51d4-4157-ec23-25e014e9a920"
      },
      "execution_count": null,
      "outputs": [
        {
          "output_type": "stream",
          "name": "stdout",
          "text": [
            "Mounted at /content/drive\n",
            "\u001b[2K     \u001b[90m━━━━━━━━━━━━━━━━━━━━━━━━━━━━━━━━━━━━━━━━\u001b[0m \u001b[32m44.3/44.3 kB\u001b[0m \u001b[31m2.7 MB/s\u001b[0m eta \u001b[36m0:00:00\u001b[0m\n",
            "\u001b[2K   \u001b[90m━━━━━━━━━━━━━━━━━━━━━━━━━━━━━━━━━━━━━━━━\u001b[0m \u001b[32m9.1/9.1 MB\u001b[0m \u001b[31m28.1 MB/s\u001b[0m eta \u001b[36m0:00:00\u001b[0m\n",
            "\u001b[2K   \u001b[90m━━━━━━━━━━━━━━━━━━━━━━━━━━━━━━━━━━━━━━━━\u001b[0m \u001b[32m6.9/6.9 MB\u001b[0m \u001b[31m51.2 MB/s\u001b[0m eta \u001b[36m0:00:00\u001b[0m\n",
            "\u001b[2K   \u001b[90m━━━━━━━━━━━━━━━━━━━━━━━━━━━━━━━━━━━━━━━━\u001b[0m \u001b[32m79.1/79.1 kB\u001b[0m \u001b[31m5.9 MB/s\u001b[0m eta \u001b[36m0:00:00\u001b[0m\n",
            "\u001b[?25h\\n=== Streamlitアプリの起動とngrokの設定を開始 ===\n",
            "既存のStreamlitプロセスはありません\n",
            "\\n=== ngrokの設定を開始 ===\n",
            "既存のngrokトンネルを終了しました\n",
            "\\n=== Streamlitアプリを起動します ===\n",
            "\\n=== アプリケーションの準備が完了しました ===\n",
            "公開URL: https://33e1-34-56-96-130.ngrok-free.app\n"
          ]
        }
      ]
    },
    {
      "cell_type": "code",
      "source": [
        "!streamlit run app.py --server.port 8501"
      ],
      "metadata": {
        "colab": {
          "base_uri": "https://localhost:8080/"
        },
        "id": "wNT8NvAkmpkR",
        "outputId": "339d4c3a-c1b5-4a0c-c7db-f6d801070c8b"
      },
      "execution_count": null,
      "outputs": [
        {
          "output_type": "stream",
          "name": "stdout",
          "text": [
            "\n",
            "Collecting usage statistics. To deactivate, set browser.gatherUsageStats to false.\n",
            "\u001b[0m\n",
            "2025-02-03 02:19:38.558 Port 8501 is already in use\n"
          ]
        }
      ]
    },
    {
      "cell_type": "markdown",
      "source": [
        "##**機械学習アプリ**"
      ],
      "metadata": {
        "id": "E-qGUqDceXkq"
      }
    },
    {
      "cell_type": "code",
      "source": [
        "# 必要なパッケージのインストール\n",
        "!pip install streamlit --q\n",
        "!pip install pyngrok --q\n",
        "import os\n",
        "import random\n",
        "from pyngrok import ngrok\n",
        "\n",
        "# 必要なパッケージのインストール\n",
        "!pip install streamlit --q\n",
        "!pip install pyngrok --q\n",
        "\n",
        "# Streamlitアプリケーションの作成\n",
        "with open('app.py', 'w') as f:\n",
        "    f.write('''\n",
        "import streamlit as st\n",
        "from PIL import Image\n",
        "import random\n",
        "\n",
        "def get_random_prediction():\n",
        "    # ランダムな確率を生成（合計が1になるように）\n",
        "    apple_prob = random.random()\n",
        "    strawberry_prob = 1 - apple_prob\n",
        "\n",
        "    return {\n",
        "        \"class\": \"apple\" if apple_prob > strawberry_prob else \"strawberry\",\n",
        "        \"probabilities\": {\n",
        "            \"apple\": apple_prob,\n",
        "            \"strawberry\": strawberry_prob\n",
        "        }\n",
        "    }\n",
        "\n",
        "def main():\n",
        "    st.title('🍎 リンゴ・イチゴ 判別アプリ 🍓')\n",
        "    st.write('画像をアップロードして、リンゴかイチゴかを判定します')\n",
        "\n",
        "    uploaded_file = st.file_uploader(\"画像をアップロードしてください\", type=['png', 'jpg', 'jpeg'])\n",
        "\n",
        "    if uploaded_file is not None:\n",
        "        # 画像の表示\n",
        "        image = Image.open(uploaded_file)\n",
        "        st.image(image, caption='アップロードされた画像', use_column_width=True)\n",
        "\n",
        "        # ランダムな判定結果を取得\n",
        "        result = get_random_prediction()\n",
        "\n",
        "        # 結果の表示\n",
        "        st.write('## 判定結果')\n",
        "        st.write(f'この画像は「**{result[\"class\"]}**」です')\n",
        "\n",
        "        # 確率の表示\n",
        "        st.write('### 確率')\n",
        "        for fruit, prob in result[\"probabilities\"].items():\n",
        "            st.write(f'{fruit}: {prob*100:.2f}%')\n",
        "            st.progress(prob)\n",
        "\n",
        "if __name__ == '__main__':\n",
        "    main()\n",
        "''')\n",
        "\n",
        "print(\"\\n=== Streamlitアプリの起動とngrokの設定を開始 ===\")\n",
        "\n",
        "# Streamlitアプリの起動とngrokの設定\n",
        "def run_streamlit_with_ngrok():\n",
        "    # ポート設定\n",
        "    port = 8501\n",
        "\n",
        "    # 既存のプロセスを終了\n",
        "    os.system('kill -9 $(lsof -t -i:8501) 2>/dev/null')\n",
        "    print(\"既存のStreamlitプロセスを終了しました\")\n",
        "\n",
        "    # ngrokの設定\n",
        "    print(\"\\n=== ngrokの設定を開始 ===\")\n",
        "    ngrok.set_auth_token('enter ngrok token')  # ここにあなたのngrokのauthトークンを設定してください\n",
        "\n",
        "    # 既存のngrokトンネルを閉じる\n",
        "    ngrok.kill()\n",
        "    print(\"既存のngrokトンネルを終了しました\")\n",
        "\n",
        "    # Streamlitの起動\n",
        "    print(\"\\n=== Streamlitアプリを起動します ===\")\n",
        "    os.system(f'streamlit run app.py --server.port {port} &')\n",
        "\n",
        "    # 新しいngrokトンネルを作成\n",
        "    try:\n",
        "        public_url = ngrok.connect(port, \"http\")\n",
        "        print(f'\\n=== アプリケーションの準備が完了しました ===')\n",
        "        print(f'公開URL: {public_url}')\n",
        "    except Exception as e:\n",
        "        print(f\"ngrokトンネルの作成中にエラーが発生しました: {str(e)}\")\n",
        "\n",
        "if __name__ == '__main__':\n",
        "    run_streamlit_with_ngrok()"
      ],
      "metadata": {
        "id": "SyG4LweXgIE8",
        "outputId": "a86e6997-4c18-4f2a-9def-ee938a6dc426",
        "colab": {
          "base_uri": "https://localhost:8080/"
        }
      },
      "execution_count": null,
      "outputs": [
        {
          "output_type": "stream",
          "name": "stdout",
          "text": [
            "\u001b[2K     \u001b[90m━━━━━━━━━━━━━━━━━━━━━━━━━━━━━━━━━━━━━━━━\u001b[0m \u001b[32m44.3/44.3 kB\u001b[0m \u001b[31m848.0 kB/s\u001b[0m eta \u001b[36m0:00:00\u001b[0m\n",
            "\u001b[2K   \u001b[90m━━━━━━━━━━━━━━━━━━━━━━━━━━━━━━━━━━━━━━━━\u001b[0m \u001b[32m9.1/9.1 MB\u001b[0m \u001b[31m38.1 MB/s\u001b[0m eta \u001b[36m0:00:00\u001b[0m\n",
            "\u001b[2K   \u001b[90m━━━━━━━━━━━━━━━━━━━━━━━━━━━━━━━━━━━━━━━━\u001b[0m \u001b[32m6.9/6.9 MB\u001b[0m \u001b[31m44.9 MB/s\u001b[0m eta \u001b[36m0:00:00\u001b[0m\n",
            "\u001b[2K   \u001b[90m━━━━━━━━━━━━━━━━━━━━━━━━━━━━━━━━━━━━━━━━\u001b[0m \u001b[32m79.1/79.1 kB\u001b[0m \u001b[31m1.7 MB/s\u001b[0m eta \u001b[36m0:00:00\u001b[0m\n",
            "\u001b[?25h\n",
            "=== Streamlitアプリの起動とngrokの設定を開始 ===\n",
            "既存のStreamlitプロセスを終了しました\n",
            "\n",
            "=== ngrokの設定を開始 ===\n",
            "既存のngrokトンネルを終了しました\n",
            "\n",
            "=== Streamlitアプリを起動します ===\n",
            "\n",
            "=== アプリケーションの準備が完了しました ===\n",
            "公開URL: NgrokTunnel: \"https://779a-35-231-88-200.ngrok-free.app\" -> \"http://localhost:8501\"\n"
          ]
        }
      ]
    },
    {
      "cell_type": "code",
      "source": [
        "# 必要なパッケージのインストール\n",
        "!pip install streamlit --q\n",
        "!pip install pyngrok --q\n",
        "\n",
        "import os\n",
        "import sys\n",
        "from google.colab import drive\n",
        "import shutil\n",
        "import streamlit as st\n",
        "import torch\n",
        "import torch.nn as nn\n",
        "from torchvision import models, transforms\n",
        "from PIL import Image\n",
        "from pyngrok import ngrok\n",
        "\n",
        "# Google Driveのマウントとモデルファイルのコピー\n",
        "print(\"=== Google Driveのマウントを開始 ===\")\n",
        "drive.mount('/content/drive')\n",
        "\n",
        "# モデルファイルのパスを設定\n",
        "source_path = \"/content/drive/MyDrive/AI_laboratory_course/classification.pth\"\n",
        "dest_path = \"/content/classification.pth\"\n",
        "\n",
        "# モデルファイルのコピー処理\n",
        "print(\"\\n=== モデルファイルのコピーを実行 ===\")\n",
        "if os.path.exists(source_path):\n",
        "    try:\n",
        "        shutil.copy(source_path, dest_path)\n",
        "        print(f\"モデルファイルのコピーが成功しました\")\n",
        "        print(f\"コピー元: {source_path}\")\n",
        "        print(f\"コピー先: {dest_path}\")\n",
        "    except Exception as e:\n",
        "        print(f\"モデルファイルのコピー中にエラーが発生しました: {str(e)}\")\n",
        "        sys.exit(1)\n",
        "else:\n",
        "    print(f\"モデルファイルが見つかりません: {source_path}\")\n",
        "    print(\"以下のパスを確認してください:\")\n",
        "    !ls -R \"/content/drive/MyDrive/AI_laboratory_course\"\n",
        "    sys.exit(1)\n"
      ],
      "metadata": {
        "id": "SAN0iGV4ba5F",
        "outputId": "c3ed272a-3c57-4ee7-8f39-6e5caf1d4768",
        "colab": {
          "base_uri": "https://localhost:8080/"
        }
      },
      "execution_count": null,
      "outputs": [
        {
          "output_type": "stream",
          "name": "stdout",
          "text": [
            "\u001b[2K     \u001b[90m━━━━━━━━━━━━━━━━━━━━━━━━━━━━━━━━━━━━━━━━\u001b[0m \u001b[32m44.3/44.3 kB\u001b[0m \u001b[31m958.1 kB/s\u001b[0m eta \u001b[36m0:00:00\u001b[0m\n",
            "\u001b[2K   \u001b[90m━━━━━━━━━━━━━━━━━━━━━━━━━━━━━━━━━━━━━━━━\u001b[0m \u001b[32m9.1/9.1 MB\u001b[0m \u001b[31m14.5 MB/s\u001b[0m eta \u001b[36m0:00:00\u001b[0m\n",
            "\u001b[2K   \u001b[90m━━━━━━━━━━━━━━━━━━━━━━━━━━━━━━━━━━━━━━━━\u001b[0m \u001b[32m6.9/6.9 MB\u001b[0m \u001b[31m12.3 MB/s\u001b[0m eta \u001b[36m0:00:00\u001b[0m\n",
            "\u001b[2K   \u001b[90m━━━━━━━━━━━━━━━━━━━━━━━━━━━━━━━━━━━━━━━━\u001b[0m \u001b[32m79.1/79.1 kB\u001b[0m \u001b[31m4.2 MB/s\u001b[0m eta \u001b[36m0:00:00\u001b[0m\n",
            "\u001b[?25h=== Google Driveのマウントを開始 ===\n",
            "Mounted at /content/drive\n",
            "\n",
            "=== モデルファイルのコピーを実行 ===\n",
            "モデルファイルのコピーが成功しました\n",
            "コピー元: /content/drive/MyDrive/AI_laboratory_course/classification.pth\n",
            "コピー先: /content/classification.pth\n"
          ]
        }
      ]
    },
    {
      "cell_type": "code",
      "source": [
        "# ※content配下にclassification.pthがコピーされていることを確認してください\n",
        "# Streamlitアプリケーションの作成\n",
        "with open('app.py', 'w') as f:\n",
        "    f.write('''\n",
        "import os\n",
        "import streamlit as st\n",
        "import torch\n",
        "import torch.nn as nn\n",
        "from torchvision import models, transforms\n",
        "from PIL import Image\n",
        "\n",
        "# モデルの定義を元の構造に合わせて修正\n",
        "def load_model():\n",
        "    model_path = '/content/classification.pth'\n",
        "\n",
        "    # 直接ResNet18をロード\n",
        "    model = models.resnet18(pretrained=False)\n",
        "    # FCレイヤーを置き換え\n",
        "    num_ftrs = model.fc.in_features\n",
        "    model.fc = nn.Linear(num_ftrs, 2)\n",
        "\n",
        "    # 重みをロード\n",
        "    state_dict = torch.load(model_path, map_location=torch.device('cpu'))\n",
        "    model.load_state_dict(state_dict)\n",
        "    model.eval()\n",
        "\n",
        "    return model\n",
        "\n",
        "def preprocess_image(image):\n",
        "    preprocess = transforms.Compose([\n",
        "        transforms.Resize(256),\n",
        "        transforms.CenterCrop(224),\n",
        "        transforms.ToTensor(),\n",
        "        transforms.Normalize([0.485, 0.456, 0.406], [0.229, 0.224, 0.225])\n",
        "    ])\n",
        "    image = preprocess(image)\n",
        "    return image.unsqueeze(0)\n",
        "\n",
        "def main():\n",
        "    st.title('🍎 リンゴ・イチゴ 判別アプリ 🍓')\n",
        "    st.write('画像をアップロードして、リンゴかイチゴかを判定します')\n",
        "\n",
        "    try:\n",
        "        print(\"=== モデルのロードを開始 ===\")\n",
        "        model = load_model()\n",
        "        classes = [\"apple\", \"strawberry\"]\n",
        "        print(\"=== モデルのロードが完了 ===\")\n",
        "\n",
        "        uploaded_file = st.file_uploader(\"画像をアップロードしてください\", type=['png', 'jpg', 'jpeg'])\n",
        "\n",
        "        if uploaded_file is not None:\n",
        "            print(\"=== 画像の処理を開始 ===\")\n",
        "            image = Image.open(uploaded_file)\n",
        "            st.image(image, caption='アップロードされた画像', use_column_width=True)\n",
        "\n",
        "            try:\n",
        "                input_tensor = preprocess_image(image)\n",
        "                print(\"画像の前処理が完了しました\")\n",
        "\n",
        "                with torch.no_grad():\n",
        "                    output = model(input_tensor)\n",
        "                    probabilities = torch.nn.functional.softmax(output[0], dim=0)\n",
        "                    predicted_class = torch.argmax(probabilities).item()\n",
        "                print(\"予測が完了しました\")\n",
        "\n",
        "                st.write('## 判定結果')\n",
        "                st.write(f'この画像は「**{classes[predicted_class]}**」です')\n",
        "\n",
        "                st.write('### 確率')\n",
        "                for i, prob in enumerate(probabilities):\n",
        "                    st.write(f'{classes[i]}: {prob.item()*100:.2f}%')\n",
        "                    st.progress(prob.item())\n",
        "\n",
        "            except Exception as e:\n",
        "                st.error('画像の処理中にエラーが発生しました。')\n",
        "                st.error(f'エラー詳細: {str(e)}')\n",
        "                print(f\"画像処理エラー: {str(e)}\")\n",
        "\n",
        "    except Exception as e:\n",
        "        st.error('モデルの読み込み中にエラーが発生しました。')\n",
        "        st.error(f'エラー詳細: {str(e)}')\n",
        "        print(f\"モデルロードエラー: {str(e)}\")\n",
        "\n",
        "if __name__ == '__main__':\n",
        "    main()\n",
        "''')\n",
        "\n",
        "print(\"\\n=== Streamlitアプリの起動とngrokの設定を開始 ===\")\n",
        "\n",
        "# Streamlitアプリの起動とngrokの設定\n",
        "def run_streamlit_with_ngrok():\n",
        "    # ポート設定\n",
        "    port = 8501\n",
        "\n",
        "    # 既存のプロセスを終了\n",
        "    os.system('kill -9 $(lsof -t -i:8501) 2>/dev/null')\n",
        "    print(\"既存のStreamlitプロセスを終了しました\")\n",
        "\n",
        "    # ngrokの設定\n",
        "    print(\"\\n=== ngrokの設定を開始 ===\")\n",
        "    ngrok.set_auth_token('2sCdLvAsRQOSaPd9ueedbcUiwun_3r6x2mJeUP1ryELVb3DjE')  # ここにあなたのngrokのauthトークンを設定してください\n",
        "\n",
        "    # 既存のngrokトンネルを閉じる\n",
        "    ngrok.kill()\n",
        "    print(\"既存のngrokトンネルを終了しました\")\n",
        "\n",
        "    # Streamlitの起動\n",
        "    print(\"\\n=== Streamlitアプリを起動します ===\")\n",
        "    os.system(f'streamlit run app.py --server.port {port} &')\n",
        "\n",
        "    # 新しいngrokトンネルを作成\n",
        "    try:\n",
        "        public_url = ngrok.connect(port, \"http\")\n",
        "        print(f'\\n=== アプリケーションの準備が完了しました ===')\n",
        "        print(f'公開URL: {public_url}')\n",
        "    except Exception as e:\n",
        "        print(f\"ngrokトンネルの作成中にエラーが発生しました: {str(e)}\")\n",
        "\n",
        "if __name__ == '__main__':\n",
        "    run_streamlit_with_ngrok()"
      ],
      "metadata": {
        "colab": {
          "base_uri": "https://localhost:8080/"
        },
        "id": "DKb_gNtDq8x-",
        "outputId": "73f6dc48-8363-4887-8198-1bd13875eb76"
      },
      "execution_count": null,
      "outputs": [
        {
          "output_type": "stream",
          "name": "stdout",
          "text": [
            "\n",
            "=== Streamlitアプリの起動とngrokの設定を開始 ===\n",
            "既存のStreamlitプロセスを終了しました\n",
            "\n",
            "=== ngrokの設定を開始 ===\n",
            "既存のngrokトンネルを終了しました\n",
            "\n",
            "=== Streamlitアプリを起動します ===\n",
            "\n",
            "=== アプリケーションの準備が完了しました ===\n",
            "公開URL: NgrokTunnel: \"https://e58e-34-150-138-116.ngrok-free.app\" -> \"http://localhost:8501\"\n"
          ]
        }
      ]
    },
    {
      "cell_type": "code",
      "source": [],
      "metadata": {
        "id": "8v-ZkmmAsPwX"
      },
      "execution_count": null,
      "outputs": []
    },
    {
      "cell_type": "code",
      "source": [],
      "metadata": {
        "id": "4JLgzgvXtaRw"
      },
      "execution_count": null,
      "outputs": []
    },
    {
      "cell_type": "code",
      "source": [],
      "metadata": {
        "id": "fjhhQGgetaTs"
      },
      "execution_count": null,
      "outputs": []
    },
    {
      "cell_type": "code",
      "source": [],
      "metadata": {
        "id": "MHjqcsLWtaV6"
      },
      "execution_count": null,
      "outputs": []
    }
  ]
}