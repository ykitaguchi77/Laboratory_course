{
  "nbformat": 4,
  "nbformat_minor": 0,
  "metadata": {
    "colab": {
      "name": "Untitled46.ipynb",
      "provenance": [],
      "authorship_tag": "ABX9TyN0QPSQ397cKdszO7OtO23/",
      "include_colab_link": true
    },
    "kernelspec": {
      "name": "python3",
      "display_name": "Python 3"
    },
    "accelerator": "GPU"
  },
  "cells": [
    {
      "cell_type": "markdown",
      "metadata": {
        "id": "view-in-github",
        "colab_type": "text"
      },
      "source": [
        "<a href=\"https://colab.research.google.com/github/ykitaguchi77/Laboratory_course/blob/master/13.%20py%E3%83%95%E3%82%A1%E3%82%A4%E3%83%AB%E3%82%92colaboratory%E3%81%A7%E5%AE%9F%E8%A1%8C%E3%81%99%E3%82%8B.ipynb\" target=\"_parent\"><img src=\"https://colab.research.google.com/assets/colab-badge.svg\" alt=\"Open In Colab\"/></a>"
      ]
    },
    {
      "cell_type": "markdown",
      "metadata": {
        "id": "TSuxN82gsKVz"
      },
      "source": [
        "#13. pyファイルをcolaboratoryで実行する"
      ]
    },
    {
      "cell_type": "code",
      "source": [
        "!ls"
      ],
      "metadata": {
        "colab": {
          "base_uri": "https://localhost:8080/"
        },
        "id": "FJ3EoHKaz4xe",
        "outputId": "46b3504d-6a1d-4e68-c06b-d374fb533a15"
      },
      "execution_count": 14,
      "outputs": [
        {
          "output_type": "stream",
          "name": "stdout",
          "text": [
            "bin\t\t\t    datalab  lib     media\t\t       proc\t   sbin  tools\n",
            "boot\t\t\t    dev      lib32   mnt\t\t       python-apt  srv\t usr\n",
            "content\t\t\t    etc      lib64   NGC-DL-CONTAINER-LICENSE  root\t   sys\t var\n",
            "cuda-keyring_1.0-1_all.deb  home     libx32  opt\t\t       run\t   tmp\n"
          ]
        }
      ]
    },
    {
      "cell_type": "code",
      "source": [
        "%%writefile test.py\n",
        "print(\"Hello, world\")"
      ],
      "metadata": {
        "colab": {
          "base_uri": "https://localhost:8080/"
        },
        "id": "iPo3pEuMzVgj",
        "outputId": "82aaa6ae-10a6-4d0c-dbfc-a54581560e1e"
      },
      "execution_count": 4,
      "outputs": [
        {
          "output_type": "stream",
          "name": "stdout",
          "text": [
            "Writing test.txt\n"
          ]
        }
      ]
    },
    {
      "cell_type": "code",
      "metadata": {
        "id": "xjbNs54xewf4",
        "colab": {
          "base_uri": "https://localhost:8080/"
        },
        "outputId": "1f72a4ee-7d89-4f0d-aa46-f5c3d5cdcce2"
      },
      "source": [
        "!python3 /content/test.py"
      ],
      "execution_count": 15,
      "outputs": [
        {
          "output_type": "stream",
          "name": "stdout",
          "text": [
            "Hello, world\n"
          ]
        }
      ]
    },
    {
      "cell_type": "markdown",
      "source": [
        "#**作業ディレクトリの変更**"
      ],
      "metadata": {
        "id": "NlPxfHlf1AGc"
      }
    },
    {
      "cell_type": "code",
      "source": [
        "!ls"
      ],
      "metadata": {
        "id": "7QMUbqyfB10v",
        "outputId": "375e8afc-02fe-48eb-f5f9-99e277e70ff2",
        "colab": {
          "base_uri": "https://localhost:8080/"
        }
      },
      "execution_count": 16,
      "outputs": [
        {
          "output_type": "stream",
          "name": "stdout",
          "text": [
            "bin\t\t\t    datalab  lib     media\t\t       proc\t   sbin  tools\n",
            "boot\t\t\t    dev      lib32   mnt\t\t       python-apt  srv\t usr\n",
            "content\t\t\t    etc      lib64   NGC-DL-CONTAINER-LICENSE  root\t   sys\t var\n",
            "cuda-keyring_1.0-1_all.deb  home     libx32  opt\t\t       run\t   tmp\n"
          ]
        }
      ]
    },
    {
      "cell_type": "code",
      "metadata": {
        "id": "0kx7lvKzdBR4",
        "outputId": "d39ca510-5849-4e35-ca20-dbaee13931f2",
        "colab": {
          "base_uri": "https://localhost:8080/"
        }
      },
      "source": [
        "import os\n",
        "path = '/content/sample_data'\n",
        "\n",
        "#作業ディレクトリをpathに移動する\n",
        "os.chdir(path)\n",
        "\n",
        "#作業ディレクトリ直下のファイルを確認\n",
        "!ls"
      ],
      "execution_count": 18,
      "outputs": [
        {
          "output_type": "stream",
          "name": "stdout",
          "text": [
            "anscombe.json\t\t     california_housing_train.csv  mnist_train_small.csv\n",
            "california_housing_test.csv  mnist_test.csv\t\t   README.md\n"
          ]
        }
      ]
    },
    {
      "cell_type": "code",
      "source": [
        "%cd /content/sample_data"
      ],
      "metadata": {
        "id": "WkolerE3CI1k",
        "outputId": "6f98d911-b5ac-4982-f7cf-46087060807d",
        "colab": {
          "base_uri": "https://localhost:8080/"
        }
      },
      "execution_count": 21,
      "outputs": [
        {
          "output_type": "stream",
          "name": "stdout",
          "text": [
            "/content\n"
          ]
        }
      ]
    },
    {
      "cell_type": "code",
      "source": [
        "path = '/content/sample_data'\n",
        "\n",
        "#作業ディレクトリをpathに移動する\n",
        "%cd $path\n",
        "%cd /content/sample_data\n",
        "\n",
        "#作業ディレクトリ直下のファイルを確認\n",
        "!ls"
      ],
      "metadata": {
        "id": "dhYGtAA70liJ"
      },
      "execution_count": null,
      "outputs": []
    },
    {
      "cell_type": "markdown",
      "source": [
        "#**Git clone**"
      ],
      "metadata": {
        "id": "wvxWDR4XCbmi"
      }
    },
    {
      "cell_type": "code",
      "source": [
        "%cd /content"
      ],
      "metadata": {
        "id": "XNngo1VcCeMf",
        "outputId": "98ece14c-9d02-4493-cc59-37b6286a0ae1",
        "colab": {
          "base_uri": "https://localhost:8080/"
        }
      },
      "execution_count": 24,
      "outputs": [
        {
          "output_type": "stream",
          "name": "stdout",
          "text": [
            "/content\n"
          ]
        }
      ]
    },
    {
      "cell_type": "code",
      "source": [
        "!git clone https://github.com/ykitaguchi77/Laboratory_course.git"
      ],
      "metadata": {
        "id": "WR2lwR6CCnEl",
        "outputId": "c4398f19-3ff6-49ba-f056-ed056d440459",
        "colab": {
          "base_uri": "https://localhost:8080/"
        }
      },
      "execution_count": 25,
      "outputs": [
        {
          "output_type": "stream",
          "name": "stdout",
          "text": [
            "Cloning into 'Laboratory_course'...\n",
            "remote: Enumerating objects: 446, done.\u001b[K\n",
            "remote: Counting objects: 100% (129/129), done.\u001b[K\n",
            "remote: Compressing objects: 100% (92/92), done.\u001b[K\n",
            "remote: Total 446 (delta 97), reused 37 (delta 37), pack-reused 317\u001b[K\n",
            "Receiving objects: 100% (446/446), 86.87 MiB | 15.95 MiB/s, done.\n",
            "Resolving deltas: 100% (289/289), done.\n"
          ]
        }
      ]
    },
    {
      "cell_type": "code",
      "source": [
        "txt = \"/content/Laboratory_course/0. 準備.txt\"\n",
        "\n",
        "# ファイルを開いて内容を読み込み、表示します。\n",
        "with open(txt, 'r') as file:\n",
        "    content = file.read()\n",
        "    print(content)"
      ],
      "metadata": {
        "id": "3r3uUj95DLgh",
        "outputId": "2c0ff480-88f6-4641-e4b2-eb989e6db817",
        "colab": {
          "base_uri": "https://localhost:8080/"
        }
      },
      "execution_count": 26,
      "outputs": [
        {
          "output_type": "stream",
          "name": "stdout",
          "text": [
            "準備\n",
            "\n",
            "1. Google driveの作成\n",
            "2. drive内に\"AI_laboratory_course\"フォルダを作成\n",
            "3. 下記アドレスのZIPファイルをダウンロードして解凍し、中身のファイルを先ほど作成したdrive内の\"AI_laboratory_course\"フォルダに移動\n",
            "https://drive.google.com/u/4/uc?id=1dg_E_0w4C8jRsGKKVowmsmuVixIG5uI5&export=download\n",
            "\n",
            "教材\n",
            "こちらから見ることができます。Githubは便利なツールなので、自分でも使えるようにしておくことをお勧めします。\n",
            " （Backupがしやすい、複数人で共同開発しやすい、など）\n",
            " https://github.com/ykitaguchi77/Laboratory_course\n",
            "\n"
          ]
        }
      ]
    },
    {
      "cell_type": "code",
      "source": [],
      "metadata": {
        "id": "GLWKJ6zjDP7I"
      },
      "execution_count": null,
      "outputs": []
    }
  ]
}