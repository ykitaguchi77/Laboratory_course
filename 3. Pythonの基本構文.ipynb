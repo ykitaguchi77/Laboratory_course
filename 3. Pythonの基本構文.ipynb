{
  "nbformat": 4,
  "nbformat_minor": 0,
  "metadata": {
    "colab": {
      "name": "Untitled16.ipynb",
      "provenance": [],
      "include_colab_link": true
    },
    "kernelspec": {
      "name": "python3",
      "display_name": "Python 3"
    }
  },
  "cells": [
    {
      "cell_type": "markdown",
      "metadata": {
        "id": "view-in-github",
        "colab_type": "text"
      },
      "source": [
        "<a href=\"https://colab.research.google.com/github/ykitaguchi77/Laboratory_course/blob/master/3.%20Python%E3%81%AE%E5%9F%BA%E6%9C%AC%E6%A7%8B%E6%96%87.ipynb\" target=\"_parent\"><img src=\"https://colab.research.google.com/assets/colab-badge.svg\" alt=\"Open In Colab\"/></a>"
      ]
    },
    {
      "cell_type": "markdown",
      "metadata": {
        "id": "NJhUlYqlODNU"
      },
      "source": [
        "#Pythonの基本<br>\n",
        "\n",
        "おすすめ自習サイト\n",
        "1. Progate　有名\n",
        "2. CODEPREP スマホでやりやすい\n",
        "3. Udemy　高額だがキャンペーン中に購入すると1000円とちょっとで買える\n",
        "\n",
        "ある程度進んだら、あとはwebで検索しながらで十分！"
      ]
    },
    {
      "cell_type": "markdown",
      "metadata": {
        "id": "NB5ESz0HRXVh"
      },
      "source": [
        "#Listについて\n",
        "https://www.sejuku.net/blog/23633\n",
        "\n"
      ]
    },
    {
      "cell_type": "code",
      "metadata": {
        "id": "Ggg35BdQjY6U",
        "colab": {
          "base_uri": "https://localhost:8080/"
        },
        "outputId": "367c3e05-1cef-4a91-d19a-10ebcf894bfc"
      },
      "source": [
        "#Listの初期化\n",
        "mylist = []\n",
        "\n",
        "mylist = [1,2,3,4]\n",
        "print(mylist)"
      ],
      "execution_count": 1,
      "outputs": [
        {
          "output_type": "stream",
          "name": "stdout",
          "text": [
            "[1, 2, 3, 4]\n"
          ]
        }
      ]
    },
    {
      "cell_type": "code",
      "source": [
        "print(mylist[2])"
      ],
      "metadata": {
        "id": "_tXXM4G1TxK1"
      },
      "execution_count": null,
      "outputs": []
    },
    {
      "cell_type": "code",
      "metadata": {
        "id": "_DpucBVaSEjT"
      },
      "source": [
        "#リストの後ろに追加\n",
        "mylist.append(5)\n",
        "print(mylist)"
      ],
      "execution_count": null,
      "outputs": []
    },
    {
      "cell_type": "code",
      "metadata": {
        "id": "mW_B62kpSuZg"
      },
      "source": [
        "#リストの結合\n",
        "mylist.extend([3,4,7,8,9])\n",
        "print(mylist)"
      ],
      "execution_count": null,
      "outputs": []
    },
    {
      "cell_type": "code",
      "metadata": {
        "id": "TMUEEz4BTLfK"
      },
      "source": [
        "#要素の数\n",
        "length = len(mylist)\n",
        "print(length)"
      ],
      "execution_count": null,
      "outputs": []
    },
    {
      "cell_type": "code",
      "metadata": {
        "id": "TsMlXJiET1bL"
      },
      "source": [
        "#リストのスライス\n",
        "mylist2 = mylist[1:5] #0からスタートであることに注意\n",
        "print(mylist2)"
      ],
      "execution_count": null,
      "outputs": []
    },
    {
      "cell_type": "code",
      "metadata": {
        "id": "bdw9K6FTjt0W"
      },
      "source": [
        "#演習：上記のmylistから[5,3,4,7]をスライスしてみましょう\n",
        "\n"
      ],
      "execution_count": null,
      "outputs": []
    },
    {
      "cell_type": "code",
      "metadata": {
        "id": "hsaX1us1XCL3",
        "colab": {
          "base_uri": "https://localhost:8080/"
        },
        "outputId": "5311e222-70c0-45d8-f52b-e7cb508ee365"
      },
      "source": [
        "mylist = ['Japanese', 'English', 'French']\n",
        "print('私が話せる言語は、'+ mylist[0]+ 'と'+ mylist[1]+ 'です')"
      ],
      "execution_count": null,
      "outputs": [
        {
          "output_type": "stream",
          "name": "stdout",
          "text": [
            "私が話せる言語は、JapaneseとEnglishです\n"
          ]
        }
      ]
    },
    {
      "cell_type": "code",
      "source": [
        "mylist = [1,2,3,4,5]\n",
        "print('私が好きな数字は、'+ mylist[0]+ 'と'+ mylist[2]+ 'です')"
      ],
      "metadata": {
        "id": "KcXEfjCwU7Y_"
      },
      "execution_count": null,
      "outputs": []
    },
    {
      "cell_type": "code",
      "source": [
        "print('私が好きな数字は、'+ str(mylist[0])+ 'と'+ str(mylist[2])+ 'です')"
      ],
      "metadata": {
        "id": "OdDtbATnVUgR"
      },
      "execution_count": null,
      "outputs": []
    },
    {
      "cell_type": "code",
      "source": [
        "print(f'私が好きな数字は、{str(mylist[0])} と {str(mylist[2])} です')"
      ],
      "metadata": {
        "id": "Lrtaso_GVZLh"
      },
      "execution_count": null,
      "outputs": []
    },
    {
      "cell_type": "markdown",
      "metadata": {
        "id": "CcKPrJipz7hX"
      },
      "source": [
        "#Function"
      ]
    },
    {
      "cell_type": "code",
      "metadata": {
        "id": "apSQBqCwz-kt"
      },
      "source": [
        "def add(x, y):\n",
        "    ans = x + y\n",
        "    return ans\n",
        "\n",
        "\n",
        "n = add(3, 5)\n",
        "print(n)"
      ],
      "execution_count": null,
      "outputs": []
    },
    {
      "cell_type": "code",
      "metadata": {
        "id": "04hGl76C0lBO"
      },
      "source": [
        "#複数の値を返すことができる\n",
        "def add_integrate(x, y):\n",
        "    add = x + y\n",
        "    integrate = x * y\n",
        "    return add, integrate\n",
        "\n",
        "a, b = add_integrate(3, 5)\n",
        "print(a)\n",
        "print(b)"
      ],
      "execution_count": null,
      "outputs": []
    },
    {
      "cell_type": "code",
      "source": [
        "#入力（引数）の数を一致させる必要がある\n",
        "a, b = add_integrate(3)"
      ],
      "metadata": {
        "id": "WgLDBAncXJOO"
      },
      "execution_count": null,
      "outputs": []
    },
    {
      "cell_type": "code",
      "source": [
        "#出力の数も一致させる必要がある\n",
        "a,b,c = add_integrate(3,5)"
      ],
      "metadata": {
        "colab": {
          "base_uri": "https://localhost:8080/"
        },
        "id": "6bAor91fXNW2",
        "outputId": "4cb9be33-b3ec-4181-b812-971429d0418d"
      },
      "execution_count": null,
      "outputs": [
        {
          "output_type": "stream",
          "name": "stdout",
          "text": [
            "(8, 15)\n"
          ]
        }
      ]
    },
    {
      "cell_type": "markdown",
      "metadata": {
        "id": "UjwD9yTloCUD"
      },
      "source": [
        "#If構文"
      ]
    },
    {
      "cell_type": "code",
      "metadata": {
        "id": "5r9agRoaoBte"
      },
      "source": [
        "mylist = ['Japanese', 'English', 'French']\n",
        "language = 'Germany'\n",
        "\n",
        "if language in mylist:\n",
        "    print('私は'+language+'を話せます')\n",
        "elif language not in mylist:\n",
        "    print('私は'+language+'を話せません')\n",
        "\n",
        "# languageを\"Japanese\"にして実行してみましょう\n"
      ],
      "execution_count": null,
      "outputs": []
    },
    {
      "cell_type": "code",
      "metadata": {
        "id": "nx5tbg0RozCF"
      },
      "source": [
        "a = 100\n",
        "\n",
        "if a%3 == 0:\n",
        "    print(str(a)+'は3の倍数です')\n",
        "elif a%4 == 0:\n",
        "    print(str(a)+'は4の倍数です')\n",
        "elif a%5 == 0:\n",
        "    print(str(a)+'は5の倍数です')\n",
        "else:\n",
        "    print(str(a)+'は3の倍数でも4の倍数でも5の倍数でもありません')\n",
        "\n",
        "#数字を変えて実行してみましょう。\n",
        "#どれかが実行されるとその後は実行されないことに注意 --> 4の倍数かつ5の倍数であることを出力するためにはどのようにすればよいか？\n"
      ],
      "execution_count": null,
      "outputs": []
    },
    {
      "cell_type": "markdown",
      "source": [
        "# 解答例"
      ],
      "metadata": {
        "id": "gWkRXP6gaPRe"
      }
    },
    {
      "cell_type": "code",
      "source": [
        "a = 13\n",
        "if a%3 == 0:\n",
        "    print(str(a)+'は3の倍数です')\n",
        "if a%4 == 0:\n",
        "    print(str(a)+'は4の倍数です')\n",
        "if a%5 == 0:\n",
        "    print(str(a)+'は5の倍数です')\n",
        "if a%3 != 0 and a%4 != 0 and a%5 !=0:\n",
        "    print(str(a)+'は3の倍数でも4の倍数でも5の倍数でもありません')"
      ],
      "metadata": {
        "id": "n3qZLb8OZCNG"
      },
      "execution_count": null,
      "outputs": []
    },
    {
      "cell_type": "markdown",
      "metadata": {
        "id": "j9u-8XTiUXMZ"
      },
      "source": [
        "#FOR構文"
      ]
    },
    {
      "cell_type": "code",
      "metadata": {
        "id": "HLOv-gybUZ8g"
      },
      "source": [
        "mylist = [1, 2, 3, 4, 5, 3, 5, 8]\n",
        "\n",
        "for i in mylist:\n",
        "  print(i)"
      ],
      "execution_count": null,
      "outputs": []
    },
    {
      "cell_type": "code",
      "metadata": {
        "id": "GlYLh0wVWWLp"
      },
      "source": [
        "mylist = ['Japanese', 'English', 'French']\n",
        "\n",
        "for i in mylist:\n",
        "  print(i)"
      ],
      "execution_count": null,
      "outputs": []
    },
    {
      "cell_type": "code",
      "source": [
        "list(range(10))"
      ],
      "metadata": {
        "id": "Ks1DxiPMbwHQ",
        "outputId": "1518c534-9b84-4eca-9734-228d5ce790a1",
        "colab": {
          "base_uri": "https://localhost:8080/"
        }
      },
      "execution_count": null,
      "outputs": [
        {
          "output_type": "execute_result",
          "data": {
            "text/plain": [
              "[0, 1, 2, 3, 4, 5, 6, 7, 8, 9]"
            ]
          },
          "metadata": {},
          "execution_count": 50
        }
      ]
    },
    {
      "cell_type": "code",
      "metadata": {
        "id": "nMnprSnYVe_2"
      },
      "source": [
        "for i in range(10):\n",
        "  print(i)"
      ],
      "execution_count": null,
      "outputs": []
    },
    {
      "cell_type": "code",
      "metadata": {
        "id": "cVP6JgAkWFfv"
      },
      "source": [
        "k=0\n",
        "for i in range(10):\n",
        "  k+=i\n",
        "  print(k)"
      ],
      "execution_count": null,
      "outputs": []
    },
    {
      "cell_type": "code",
      "metadata": {
        "id": "UxFJ8w7GVyaX"
      },
      "source": [
        "for i in range(5,10):\n",
        "  print(i)"
      ],
      "execution_count": null,
      "outputs": []
    },
    {
      "cell_type": "code",
      "metadata": {
        "id": "_syIKUgLWj-J"
      },
      "source": [
        "for i in range(100):\n",
        "  print(i)\n",
        "\n",
        "  if i == 25:\n",
        "    print('ここまで')\n",
        "    break"
      ],
      "execution_count": null,
      "outputs": []
    },
    {
      "cell_type": "code",
      "metadata": {
        "id": "k-Q_5xgnnVkk"
      },
      "source": [
        "#演習：0から25までの3の倍数以外を、小さい順に表示するスクリプトを作ってみよう\n",
        "#ヒント： ifを使う\n",
        "#ヒント： not equall → !="
      ],
      "execution_count": null,
      "outputs": []
    },
    {
      "cell_type": "code",
      "metadata": {
        "id": "gc5cB22RrTmL",
        "colab": {
          "base_uri": "https://localhost:8080/"
        },
        "outputId": "02e41fec-fcfa-4c17-b023-ea2d442bee43"
      },
      "source": [
        "#演習：入力した数字の最小公倍数を表示するスクリプトを作ってみよう\n",
        "def is_int(s):\n",
        "    try:\n",
        "        int(s)\n",
        "    except :\n",
        "        pass\n",
        "        #print('\"'+s+'\"は整数ではありません')\n",
        "\n",
        "num_1 = input('数字1を入力して下さい')\n",
        "is_int(num_1)\n",
        "num_2 = input('数字2を入力して下さい')\n",
        "is_int(num_2)\n",
        "\n",
        "#ここから。forとifを使って書いてみましょう\n",
        "num_1, num_2 = int(num_1), int(num_2)\n",
        "\n",
        "for i in range(1, num_1 * num_2+1):\n",
        "    if i % num_1 == 0 and i % num_2 ==0:\n",
        "        print(f\"最小公倍数は{i}です\")\n",
        "\n",
        "\n"
      ],
      "execution_count": 38,
      "outputs": [
        {
          "output_type": "stream",
          "name": "stdout",
          "text": [
            "数字1を入力して下さい4\n",
            "数字2を入力して下さい5\n",
            "最小公倍数は20です\n"
          ]
        }
      ]
    },
    {
      "cell_type": "markdown",
      "source": [
        "# 解答例"
      ],
      "metadata": {
        "id": "1AkgRWWDhR-L"
      }
    },
    {
      "cell_type": "code",
      "source": [
        "num_1, num_2 = int(num_1), int(num_2)\n",
        "\n",
        "for i in range(1, num_1 * num_2+1):\n",
        "    if i % num_1 == 0 and i % num_2 ==0:\n",
        "        print(f\"最小公倍数は{i}です\")\n"
      ],
      "metadata": {
        "id": "rUlcmI1bdQDx",
        "outputId": "eaf21bd8-cdd9-4fb5-b07d-41387fe548bd",
        "colab": {
          "base_uri": "https://localhost:8080/"
        }
      },
      "execution_count": null,
      "outputs": [
        {
          "output_type": "stream",
          "name": "stdout",
          "text": [
            "最小公倍数は40です\n"
          ]
        }
      ]
    },
    {
      "cell_type": "markdown",
      "metadata": {
        "id": "VHfrA87TX9Uv"
      },
      "source": [
        "#CSVファイルの操作"
      ]
    },
    {
      "cell_type": "code",
      "metadata": {
        "id": "dEck89SJYNNY",
        "colab": {
          "base_uri": "https://localhost:8080/"
        },
        "outputId": "2b89f12b-9f9c-44de-c8e6-a4732753a764"
      },
      "source": [
        "from google.colab import drive\n",
        "drive.mount('/content/drive')"
      ],
      "execution_count": null,
      "outputs": [
        {
          "output_type": "stream",
          "name": "stdout",
          "text": [
            "Mounted at /content/drive\n"
          ]
        }
      ]
    },
    {
      "cell_type": "code",
      "metadata": {
        "id": "yiTMSgiQX86J"
      },
      "source": [
        "import csv\n",
        "\n",
        "#ファイルがなければ勝手に作成してくれる\n",
        "with open('/content/drive/My Drive/AI_laboratory_course/test.csv','w') as f:\n",
        "    writer = csv.writer(f)\n",
        "    writer.writerow(['Menu','stock', 'Price'])\n",
        "    writer.writerow(['スパム',10,500])\n",
        "    writer.writerow(['卵',20,168])\n",
        "    writer.writerow(['ベーコン',15,250])\n",
        "    writer.writerow(['レタス',5,200])\n",
        "    #writer.writerow(['total','',''])\n"
      ],
      "execution_count": null,
      "outputs": []
    },
    {
      "cell_type": "markdown",
      "metadata": {
        "id": "uQl39ZCCtIMn"
      },
      "source": [
        "csvモジュールを用いた読み込み"
      ]
    },
    {
      "cell_type": "code",
      "metadata": {
        "id": "gnvtbnSVbDsJ",
        "colab": {
          "base_uri": "https://localhost:8080/"
        },
        "outputId": "29a841c0-1d92-40eb-98f9-de1ca816823e"
      },
      "source": [
        "with open('/content/drive/My Drive/AI_laboratory_course/test.csv','r') as f:\n",
        "    reader = csv.reader(f)\n",
        "    for row in reader:\n",
        "        print(row)"
      ],
      "execution_count": null,
      "outputs": [
        {
          "output_type": "stream",
          "name": "stdout",
          "text": [
            "['Menu', 'stock', 'Price']\n",
            "['スパム', '10', '500']\n",
            "['卵', '20', '168']\n",
            "['ベーコン', '15', '250']\n",
            "['レタス', '5', '200']\n"
          ]
        }
      ]
    },
    {
      "cell_type": "markdown",
      "metadata": {
        "id": "9s8mSgvLtD9g"
      },
      "source": [
        "PANDASモジュールを使った読み書き（一括変換ができる）"
      ]
    },
    {
      "cell_type": "code",
      "metadata": {
        "id": "Qzun2Dn5biZG",
        "colab": {
          "base_uri": "https://localhost:8080/",
          "height": 175
        },
        "outputId": "d30ffef0-c25b-4e9b-f98a-6fe043072d81"
      },
      "source": [
        "import pandas as pd\n",
        "\n",
        "df = pd.read_csv('/content/drive/My Drive/AI_laboratory_course/test.csv', index_col=None, header =0,\n",
        "                     delimiter=r\",\\s*\", engine=\"python\")\n",
        "df"
      ],
      "execution_count": null,
      "outputs": [
        {
          "output_type": "execute_result",
          "data": {
            "text/plain": [
              "   Menu  stock  Price\n",
              "0   スパム     10    500\n",
              "1     卵     20    168\n",
              "2  ベーコン     15    250\n",
              "3   レタス      5    200"
            ],
            "text/html": [
              "\n",
              "  <div id=\"df-06171dd4-9c4c-4b9b-917e-bd143a7f32d4\">\n",
              "    <div class=\"colab-df-container\">\n",
              "      <div>\n",
              "<style scoped>\n",
              "    .dataframe tbody tr th:only-of-type {\n",
              "        vertical-align: middle;\n",
              "    }\n",
              "\n",
              "    .dataframe tbody tr th {\n",
              "        vertical-align: top;\n",
              "    }\n",
              "\n",
              "    .dataframe thead th {\n",
              "        text-align: right;\n",
              "    }\n",
              "</style>\n",
              "<table border=\"1\" class=\"dataframe\">\n",
              "  <thead>\n",
              "    <tr style=\"text-align: right;\">\n",
              "      <th></th>\n",
              "      <th>Menu</th>\n",
              "      <th>stock</th>\n",
              "      <th>Price</th>\n",
              "    </tr>\n",
              "  </thead>\n",
              "  <tbody>\n",
              "    <tr>\n",
              "      <th>0</th>\n",
              "      <td>スパム</td>\n",
              "      <td>10</td>\n",
              "      <td>500</td>\n",
              "    </tr>\n",
              "    <tr>\n",
              "      <th>1</th>\n",
              "      <td>卵</td>\n",
              "      <td>20</td>\n",
              "      <td>168</td>\n",
              "    </tr>\n",
              "    <tr>\n",
              "      <th>2</th>\n",
              "      <td>ベーコン</td>\n",
              "      <td>15</td>\n",
              "      <td>250</td>\n",
              "    </tr>\n",
              "    <tr>\n",
              "      <th>3</th>\n",
              "      <td>レタス</td>\n",
              "      <td>5</td>\n",
              "      <td>200</td>\n",
              "    </tr>\n",
              "  </tbody>\n",
              "</table>\n",
              "</div>\n",
              "      <button class=\"colab-df-convert\" onclick=\"convertToInteractive('df-06171dd4-9c4c-4b9b-917e-bd143a7f32d4')\"\n",
              "              title=\"Convert this dataframe to an interactive table.\"\n",
              "              style=\"display:none;\">\n",
              "        \n",
              "  <svg xmlns=\"http://www.w3.org/2000/svg\" height=\"24px\"viewBox=\"0 0 24 24\"\n",
              "       width=\"24px\">\n",
              "    <path d=\"M0 0h24v24H0V0z\" fill=\"none\"/>\n",
              "    <path d=\"M18.56 5.44l.94 2.06.94-2.06 2.06-.94-2.06-.94-.94-2.06-.94 2.06-2.06.94zm-11 1L8.5 8.5l.94-2.06 2.06-.94-2.06-.94L8.5 2.5l-.94 2.06-2.06.94zm10 10l.94 2.06.94-2.06 2.06-.94-2.06-.94-.94-2.06-.94 2.06-2.06.94z\"/><path d=\"M17.41 7.96l-1.37-1.37c-.4-.4-.92-.59-1.43-.59-.52 0-1.04.2-1.43.59L10.3 9.45l-7.72 7.72c-.78.78-.78 2.05 0 2.83L4 21.41c.39.39.9.59 1.41.59.51 0 1.02-.2 1.41-.59l7.78-7.78 2.81-2.81c.8-.78.8-2.07 0-2.86zM5.41 20L4 18.59l7.72-7.72 1.47 1.35L5.41 20z\"/>\n",
              "  </svg>\n",
              "      </button>\n",
              "      \n",
              "  <style>\n",
              "    .colab-df-container {\n",
              "      display:flex;\n",
              "      flex-wrap:wrap;\n",
              "      gap: 12px;\n",
              "    }\n",
              "\n",
              "    .colab-df-convert {\n",
              "      background-color: #E8F0FE;\n",
              "      border: none;\n",
              "      border-radius: 50%;\n",
              "      cursor: pointer;\n",
              "      display: none;\n",
              "      fill: #1967D2;\n",
              "      height: 32px;\n",
              "      padding: 0 0 0 0;\n",
              "      width: 32px;\n",
              "    }\n",
              "\n",
              "    .colab-df-convert:hover {\n",
              "      background-color: #E2EBFA;\n",
              "      box-shadow: 0px 1px 2px rgba(60, 64, 67, 0.3), 0px 1px 3px 1px rgba(60, 64, 67, 0.15);\n",
              "      fill: #174EA6;\n",
              "    }\n",
              "\n",
              "    [theme=dark] .colab-df-convert {\n",
              "      background-color: #3B4455;\n",
              "      fill: #D2E3FC;\n",
              "    }\n",
              "\n",
              "    [theme=dark] .colab-df-convert:hover {\n",
              "      background-color: #434B5C;\n",
              "      box-shadow: 0px 1px 3px 1px rgba(0, 0, 0, 0.15);\n",
              "      filter: drop-shadow(0px 1px 2px rgba(0, 0, 0, 0.3));\n",
              "      fill: #FFFFFF;\n",
              "    }\n",
              "  </style>\n",
              "\n",
              "      <script>\n",
              "        const buttonEl =\n",
              "          document.querySelector('#df-06171dd4-9c4c-4b9b-917e-bd143a7f32d4 button.colab-df-convert');\n",
              "        buttonEl.style.display =\n",
              "          google.colab.kernel.accessAllowed ? 'block' : 'none';\n",
              "\n",
              "        async function convertToInteractive(key) {\n",
              "          const element = document.querySelector('#df-06171dd4-9c4c-4b9b-917e-bd143a7f32d4');\n",
              "          const dataTable =\n",
              "            await google.colab.kernel.invokeFunction('convertToInteractive',\n",
              "                                                     [key], {});\n",
              "          if (!dataTable) return;\n",
              "\n",
              "          const docLinkHtml = 'Like what you see? Visit the ' +\n",
              "            '<a target=\"_blank\" href=https://colab.research.google.com/notebooks/data_table.ipynb>data table notebook</a>'\n",
              "            + ' to learn more about interactive tables.';\n",
              "          element.innerHTML = '';\n",
              "          dataTable['output_type'] = 'display_data';\n",
              "          await google.colab.output.renderOutput(dataTable, element);\n",
              "          const docLink = document.createElement('div');\n",
              "          docLink.innerHTML = docLinkHtml;\n",
              "          element.appendChild(docLink);\n",
              "        }\n",
              "      </script>\n",
              "    </div>\n",
              "  </div>\n",
              "  "
            ]
          },
          "metadata": {},
          "execution_count": 139
        }
      ]
    },
    {
      "cell_type": "code",
      "metadata": {
        "id": "GlIRRJp8vKvN",
        "colab": {
          "base_uri": "https://localhost:8080/"
        },
        "outputId": "ad7a036a-58b6-4823-8d53-dc281be0367d"
      },
      "source": [
        "print(df.index.values) #列のindex\n",
        "print(df.columns.values) #行のindex"
      ],
      "execution_count": null,
      "outputs": [
        {
          "output_type": "stream",
          "name": "stdout",
          "text": [
            "[0 1 2 3]\n",
            "['Menu' 'stock' 'Price']\n"
          ]
        }
      ]
    },
    {
      "cell_type": "code",
      "metadata": {
        "id": "-GJPv7r4nSHq",
        "colab": {
          "base_uri": "https://localhost:8080/"
        },
        "outputId": "a4d68d2f-d069-4531-de70-8228a2a03cc8"
      },
      "source": [
        "print(df.iloc[1:3, :]) #2行目から3行目まで（0から始まるので注意）"
      ],
      "execution_count": null,
      "outputs": [
        {
          "output_type": "stream",
          "name": "stdout",
          "text": [
            "   Menu  stock  Price\n",
            "1     卵     20    168\n",
            "2  ベーコン     15    250\n"
          ]
        }
      ]
    },
    {
      "cell_type": "code",
      "metadata": {
        "id": "ymM-S-30nZWr",
        "colab": {
          "base_uri": "https://localhost:8080/"
        },
        "outputId": "df5c7ced-8cb3-4036-8ae6-09d8180654f4"
      },
      "source": [
        "print(df.iloc[:, 1:3]) #2列目から3列目（0から始まるので注意）"
      ],
      "execution_count": null,
      "outputs": [
        {
          "output_type": "stream",
          "name": "stdout",
          "text": [
            "   stock  Price\n",
            "0     10    500\n",
            "1     20    168\n",
            "2     15    250\n",
            "3      5    200\n"
          ]
        }
      ]
    },
    {
      "cell_type": "code",
      "metadata": {
        "id": "s3FaDtk2wt7h"
      },
      "source": [
        "#演習：df.ilocを用いてスパム、ベーコン、レタスのメニューと対応する価格を表示しましょう"
      ],
      "execution_count": null,
      "outputs": []
    },
    {
      "cell_type": "code",
      "source": [
        "#df.locを用いたスライス（インデックス名を入れる）\n",
        "print(df.loc[:, \"stock\"])\n",
        "print(df[\"stock\"])"
      ],
      "metadata": {
        "id": "nqtam8r4j2hC"
      },
      "execution_count": null,
      "outputs": []
    },
    {
      "cell_type": "code",
      "source": [
        "#一致検索\n",
        "df[df[\"stock\"]==20]"
      ],
      "metadata": {
        "id": "Ff4k_Y9xk0Nl",
        "outputId": "b31d15ad-2d66-495d-8630-7edcaec835e0",
        "colab": {
          "base_uri": "https://localhost:8080/",
          "height": 81
        }
      },
      "execution_count": null,
      "outputs": [
        {
          "output_type": "execute_result",
          "data": {
            "text/plain": [
              "  Menu  stock  Price\n",
              "1    卵     20    168"
            ],
            "text/html": [
              "\n",
              "  <div id=\"df-dcdf8856-2cbe-4238-85fd-9cf137be37e8\">\n",
              "    <div class=\"colab-df-container\">\n",
              "      <div>\n",
              "<style scoped>\n",
              "    .dataframe tbody tr th:only-of-type {\n",
              "        vertical-align: middle;\n",
              "    }\n",
              "\n",
              "    .dataframe tbody tr th {\n",
              "        vertical-align: top;\n",
              "    }\n",
              "\n",
              "    .dataframe thead th {\n",
              "        text-align: right;\n",
              "    }\n",
              "</style>\n",
              "<table border=\"1\" class=\"dataframe\">\n",
              "  <thead>\n",
              "    <tr style=\"text-align: right;\">\n",
              "      <th></th>\n",
              "      <th>Menu</th>\n",
              "      <th>stock</th>\n",
              "      <th>Price</th>\n",
              "    </tr>\n",
              "  </thead>\n",
              "  <tbody>\n",
              "    <tr>\n",
              "      <th>1</th>\n",
              "      <td>卵</td>\n",
              "      <td>20</td>\n",
              "      <td>168</td>\n",
              "    </tr>\n",
              "  </tbody>\n",
              "</table>\n",
              "</div>\n",
              "      <button class=\"colab-df-convert\" onclick=\"convertToInteractive('df-dcdf8856-2cbe-4238-85fd-9cf137be37e8')\"\n",
              "              title=\"Convert this dataframe to an interactive table.\"\n",
              "              style=\"display:none;\">\n",
              "        \n",
              "  <svg xmlns=\"http://www.w3.org/2000/svg\" height=\"24px\"viewBox=\"0 0 24 24\"\n",
              "       width=\"24px\">\n",
              "    <path d=\"M0 0h24v24H0V0z\" fill=\"none\"/>\n",
              "    <path d=\"M18.56 5.44l.94 2.06.94-2.06 2.06-.94-2.06-.94-.94-2.06-.94 2.06-2.06.94zm-11 1L8.5 8.5l.94-2.06 2.06-.94-2.06-.94L8.5 2.5l-.94 2.06-2.06.94zm10 10l.94 2.06.94-2.06 2.06-.94-2.06-.94-.94-2.06-.94 2.06-2.06.94z\"/><path d=\"M17.41 7.96l-1.37-1.37c-.4-.4-.92-.59-1.43-.59-.52 0-1.04.2-1.43.59L10.3 9.45l-7.72 7.72c-.78.78-.78 2.05 0 2.83L4 21.41c.39.39.9.59 1.41.59.51 0 1.02-.2 1.41-.59l7.78-7.78 2.81-2.81c.8-.78.8-2.07 0-2.86zM5.41 20L4 18.59l7.72-7.72 1.47 1.35L5.41 20z\"/>\n",
              "  </svg>\n",
              "      </button>\n",
              "      \n",
              "  <style>\n",
              "    .colab-df-container {\n",
              "      display:flex;\n",
              "      flex-wrap:wrap;\n",
              "      gap: 12px;\n",
              "    }\n",
              "\n",
              "    .colab-df-convert {\n",
              "      background-color: #E8F0FE;\n",
              "      border: none;\n",
              "      border-radius: 50%;\n",
              "      cursor: pointer;\n",
              "      display: none;\n",
              "      fill: #1967D2;\n",
              "      height: 32px;\n",
              "      padding: 0 0 0 0;\n",
              "      width: 32px;\n",
              "    }\n",
              "\n",
              "    .colab-df-convert:hover {\n",
              "      background-color: #E2EBFA;\n",
              "      box-shadow: 0px 1px 2px rgba(60, 64, 67, 0.3), 0px 1px 3px 1px rgba(60, 64, 67, 0.15);\n",
              "      fill: #174EA6;\n",
              "    }\n",
              "\n",
              "    [theme=dark] .colab-df-convert {\n",
              "      background-color: #3B4455;\n",
              "      fill: #D2E3FC;\n",
              "    }\n",
              "\n",
              "    [theme=dark] .colab-df-convert:hover {\n",
              "      background-color: #434B5C;\n",
              "      box-shadow: 0px 1px 3px 1px rgba(0, 0, 0, 0.15);\n",
              "      filter: drop-shadow(0px 1px 2px rgba(0, 0, 0, 0.3));\n",
              "      fill: #FFFFFF;\n",
              "    }\n",
              "  </style>\n",
              "\n",
              "      <script>\n",
              "        const buttonEl =\n",
              "          document.querySelector('#df-dcdf8856-2cbe-4238-85fd-9cf137be37e8 button.colab-df-convert');\n",
              "        buttonEl.style.display =\n",
              "          google.colab.kernel.accessAllowed ? 'block' : 'none';\n",
              "\n",
              "        async function convertToInteractive(key) {\n",
              "          const element = document.querySelector('#df-dcdf8856-2cbe-4238-85fd-9cf137be37e8');\n",
              "          const dataTable =\n",
              "            await google.colab.kernel.invokeFunction('convertToInteractive',\n",
              "                                                     [key], {});\n",
              "          if (!dataTable) return;\n",
              "\n",
              "          const docLinkHtml = 'Like what you see? Visit the ' +\n",
              "            '<a target=\"_blank\" href=https://colab.research.google.com/notebooks/data_table.ipynb>data table notebook</a>'\n",
              "            + ' to learn more about interactive tables.';\n",
              "          element.innerHTML = '';\n",
              "          dataTable['output_type'] = 'display_data';\n",
              "          await google.colab.output.renderOutput(dataTable, element);\n",
              "          const docLink = document.createElement('div');\n",
              "          docLink.innerHTML = docLinkHtml;\n",
              "          element.appendChild(docLink);\n",
              "        }\n",
              "      </script>\n",
              "    </div>\n",
              "  </div>\n",
              "  "
            ]
          },
          "metadata": {},
          "execution_count": 108
        }
      ]
    },
    {
      "cell_type": "code",
      "metadata": {
        "id": "FYLMvfZhpgSC"
      },
      "source": [
        "total_stock = sum(df.iloc[0:4, 1])\n",
        "total_price = sum(df.iloc[0:4, 2])\n",
        "\n",
        "#新しいセルを追加する\n",
        "df.loc[4] = ['total', total_stock, 0]\n",
        "\n",
        "print(df)\n",
        "df.to_csv('/content/drive/My Drive/AI_laboratory_course/test.csv',index=False)"
      ],
      "execution_count": null,
      "outputs": []
    },
    {
      "cell_type": "code",
      "metadata": {
        "id": "EXmJos85sfvQ"
      },
      "source": [
        "df = pd.read_csv('/content/drive/My Drive/AI_laboratory_course/test.csv',\n",
        "                     delimiter=r\",\\s*\", header =0,  engine=\"python\")\n",
        "print(df)"
      ],
      "execution_count": null,
      "outputs": []
    },
    {
      "cell_type": "code",
      "source": [],
      "metadata": {
        "id": "xqd6zxy2nPWl"
      },
      "execution_count": null,
      "outputs": []
    }
  ]
}