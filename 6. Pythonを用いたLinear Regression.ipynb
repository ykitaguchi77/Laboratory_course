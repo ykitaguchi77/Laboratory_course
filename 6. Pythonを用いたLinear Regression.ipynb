{
  "nbformat": 4,
  "nbformat_minor": 0,
  "metadata": {
    "colab": {
      "name": "Untitled25.ipynb",
      "provenance": [],
      "include_colab_link": true
    },
    "kernelspec": {
      "name": "python3",
      "display_name": "Python 3"
    }
  },
  "cells": [
    {
      "cell_type": "markdown",
      "metadata": {
        "id": "view-in-github",
        "colab_type": "text"
      },
      "source": [
        "<a href=\"https://colab.research.google.com/github/ykitaguchi77/Laboratory_course/blob/master/6.%20Python%E3%82%92%E7%94%A8%E3%81%84%E3%81%9FLinear%20Regression.ipynb\" target=\"_parent\"><img src=\"https://colab.research.google.com/assets/colab-badge.svg\" alt=\"Open In Colab\"/></a>"
      ]
    },
    {
      "cell_type": "markdown",
      "metadata": {
        "id": "PfYiTrBaR5Ne"
      },
      "source": [
        "#**6. Linear Regression using sklearn**"
      ]
    },
    {
      "cell_type": "code",
      "metadata": {
        "id": "frHdxBOlR2jY",
        "colab": {
          "base_uri": "https://localhost:8080/"
        },
        "outputId": "98f8d289-2c90-4c34-ab85-11479cbbd3ac"
      },
      "source": [
        "import numpy as np\n",
        "!pip install scikit-learn==1.1.0 #scikit-learn 1.2以降ではBoston datasetが削除されているため\n",
        "from sklearn.datasets import load_boston\n",
        "from sklearn.linear_model import LinearRegression\n",
        "from matplotlib import pyplot as plt"
      ],
      "execution_count": 25,
      "outputs": [
        {
          "output_type": "stream",
          "name": "stdout",
          "text": [
            "Requirement already satisfied: scikit-learn==1.1.0 in /usr/local/lib/python3.10/dist-packages (1.1.0)\n",
            "Requirement already satisfied: numpy>=1.17.3 in /usr/local/lib/python3.10/dist-packages (from scikit-learn==1.1.0) (1.23.5)\n",
            "Requirement already satisfied: scipy>=1.3.2 in /usr/local/lib/python3.10/dist-packages (from scikit-learn==1.1.0) (1.11.4)\n",
            "Requirement already satisfied: joblib>=1.0.0 in /usr/local/lib/python3.10/dist-packages (from scikit-learn==1.1.0) (1.3.2)\n",
            "Requirement already satisfied: threadpoolctl>=2.0.0 in /usr/local/lib/python3.10/dist-packages (from scikit-learn==1.1.0) (3.2.0)\n"
          ]
        }
      ]
    },
    {
      "cell_type": "markdown",
      "metadata": {
        "id": "AmamjvBqSyD3"
      },
      "source": [
        "#Bostonの住宅価格データ\n",
        "標本数506、よく練習に使われるデータ"
      ]
    },
    {
      "cell_type": "code",
      "metadata": {
        "id": "CaFdh6FzSEh_",
        "outputId": "d4ad6489-9bf1-4f71-e0b1-6e9fe679c4a7",
        "colab": {
          "base_uri": "https://localhost:8080/"
        }
      },
      "source": [
        "boston = load_boston()\n",
        "np.random.seed(1234)"
      ],
      "execution_count": 26,
      "outputs": [
        {
          "output_type": "stream",
          "name": "stderr",
          "text": [
            "/usr/local/lib/python3.10/dist-packages/sklearn/utils/deprecation.py:87: FutureWarning: Function load_boston is deprecated; `load_boston` is deprecated in 1.0 and will be removed in 1.2.\n",
            "\n",
            "    The Boston housing prices dataset has an ethical problem. You can refer to\n",
            "    the documentation of this function for further details.\n",
            "\n",
            "    The scikit-learn maintainers therefore strongly discourage the use of this\n",
            "    dataset unless the purpose of the code is to study and educate about\n",
            "    ethical issues in data science and machine learning.\n",
            "\n",
            "    In this special case, you can fetch the dataset from the original\n",
            "    source::\n",
            "\n",
            "        import pandas as pd\n",
            "        import numpy as np\n",
            "\n",
            "        data_url = \"http://lib.stat.cmu.edu/datasets/boston\"\n",
            "        raw_df = pd.read_csv(data_url, sep=\"\\s+\", skiprows=22, header=None)\n",
            "        data = np.hstack([raw_df.values[::2, :], raw_df.values[1::2, :2]])\n",
            "        target = raw_df.values[1::2, 2]\n",
            "\n",
            "    Alternative datasets include the California housing dataset (i.e.\n",
            "    :func:`~sklearn.datasets.fetch_california_housing`) and the Ames housing\n",
            "    dataset. You can load the datasets as follows::\n",
            "\n",
            "        from sklearn.datasets import fetch_california_housing\n",
            "        housing = fetch_california_housing()\n",
            "\n",
            "    for the California housing dataset and::\n",
            "\n",
            "        from sklearn.datasets import fetch_openml\n",
            "        housing = fetch_openml(name=\"house_prices\", as_frame=True)\n",
            "\n",
            "    for the Ames housing dataset.\n",
            "  warnings.warn(msg, category=FutureWarning)\n"
          ]
        }
      ]
    },
    {
      "cell_type": "code",
      "source": [
        "boston"
      ],
      "metadata": {
        "id": "fBXn1it_pxlW",
        "outputId": "c27a1a1f-f841-4ba9-c60e-9c35c858e17f",
        "colab": {
          "base_uri": "https://localhost:8080/"
        }
      },
      "execution_count": 27,
      "outputs": [
        {
          "output_type": "execute_result",
          "data": {
            "text/plain": [
              "{'data': array([[6.3200e-03, 1.8000e+01, 2.3100e+00, ..., 1.5300e+01, 3.9690e+02,\n",
              "         4.9800e+00],\n",
              "        [2.7310e-02, 0.0000e+00, 7.0700e+00, ..., 1.7800e+01, 3.9690e+02,\n",
              "         9.1400e+00],\n",
              "        [2.7290e-02, 0.0000e+00, 7.0700e+00, ..., 1.7800e+01, 3.9283e+02,\n",
              "         4.0300e+00],\n",
              "        ...,\n",
              "        [6.0760e-02, 0.0000e+00, 1.1930e+01, ..., 2.1000e+01, 3.9690e+02,\n",
              "         5.6400e+00],\n",
              "        [1.0959e-01, 0.0000e+00, 1.1930e+01, ..., 2.1000e+01, 3.9345e+02,\n",
              "         6.4800e+00],\n",
              "        [4.7410e-02, 0.0000e+00, 1.1930e+01, ..., 2.1000e+01, 3.9690e+02,\n",
              "         7.8800e+00]]),\n",
              " 'target': array([24. , 21.6, 34.7, 33.4, 36.2, 28.7, 22.9, 27.1, 16.5, 18.9, 15. ,\n",
              "        18.9, 21.7, 20.4, 18.2, 19.9, 23.1, 17.5, 20.2, 18.2, 13.6, 19.6,\n",
              "        15.2, 14.5, 15.6, 13.9, 16.6, 14.8, 18.4, 21. , 12.7, 14.5, 13.2,\n",
              "        13.1, 13.5, 18.9, 20. , 21. , 24.7, 30.8, 34.9, 26.6, 25.3, 24.7,\n",
              "        21.2, 19.3, 20. , 16.6, 14.4, 19.4, 19.7, 20.5, 25. , 23.4, 18.9,\n",
              "        35.4, 24.7, 31.6, 23.3, 19.6, 18.7, 16. , 22.2, 25. , 33. , 23.5,\n",
              "        19.4, 22. , 17.4, 20.9, 24.2, 21.7, 22.8, 23.4, 24.1, 21.4, 20. ,\n",
              "        20.8, 21.2, 20.3, 28. , 23.9, 24.8, 22.9, 23.9, 26.6, 22.5, 22.2,\n",
              "        23.6, 28.7, 22.6, 22. , 22.9, 25. , 20.6, 28.4, 21.4, 38.7, 43.8,\n",
              "        33.2, 27.5, 26.5, 18.6, 19.3, 20.1, 19.5, 19.5, 20.4, 19.8, 19.4,\n",
              "        21.7, 22.8, 18.8, 18.7, 18.5, 18.3, 21.2, 19.2, 20.4, 19.3, 22. ,\n",
              "        20.3, 20.5, 17.3, 18.8, 21.4, 15.7, 16.2, 18. , 14.3, 19.2, 19.6,\n",
              "        23. , 18.4, 15.6, 18.1, 17.4, 17.1, 13.3, 17.8, 14. , 14.4, 13.4,\n",
              "        15.6, 11.8, 13.8, 15.6, 14.6, 17.8, 15.4, 21.5, 19.6, 15.3, 19.4,\n",
              "        17. , 15.6, 13.1, 41.3, 24.3, 23.3, 27. , 50. , 50. , 50. , 22.7,\n",
              "        25. , 50. , 23.8, 23.8, 22.3, 17.4, 19.1, 23.1, 23.6, 22.6, 29.4,\n",
              "        23.2, 24.6, 29.9, 37.2, 39.8, 36.2, 37.9, 32.5, 26.4, 29.6, 50. ,\n",
              "        32. , 29.8, 34.9, 37. , 30.5, 36.4, 31.1, 29.1, 50. , 33.3, 30.3,\n",
              "        34.6, 34.9, 32.9, 24.1, 42.3, 48.5, 50. , 22.6, 24.4, 22.5, 24.4,\n",
              "        20. , 21.7, 19.3, 22.4, 28.1, 23.7, 25. , 23.3, 28.7, 21.5, 23. ,\n",
              "        26.7, 21.7, 27.5, 30.1, 44.8, 50. , 37.6, 31.6, 46.7, 31.5, 24.3,\n",
              "        31.7, 41.7, 48.3, 29. , 24. , 25.1, 31.5, 23.7, 23.3, 22. , 20.1,\n",
              "        22.2, 23.7, 17.6, 18.5, 24.3, 20.5, 24.5, 26.2, 24.4, 24.8, 29.6,\n",
              "        42.8, 21.9, 20.9, 44. , 50. , 36. , 30.1, 33.8, 43.1, 48.8, 31. ,\n",
              "        36.5, 22.8, 30.7, 50. , 43.5, 20.7, 21.1, 25.2, 24.4, 35.2, 32.4,\n",
              "        32. , 33.2, 33.1, 29.1, 35.1, 45.4, 35.4, 46. , 50. , 32.2, 22. ,\n",
              "        20.1, 23.2, 22.3, 24.8, 28.5, 37.3, 27.9, 23.9, 21.7, 28.6, 27.1,\n",
              "        20.3, 22.5, 29. , 24.8, 22. , 26.4, 33.1, 36.1, 28.4, 33.4, 28.2,\n",
              "        22.8, 20.3, 16.1, 22.1, 19.4, 21.6, 23.8, 16.2, 17.8, 19.8, 23.1,\n",
              "        21. , 23.8, 23.1, 20.4, 18.5, 25. , 24.6, 23. , 22.2, 19.3, 22.6,\n",
              "        19.8, 17.1, 19.4, 22.2, 20.7, 21.1, 19.5, 18.5, 20.6, 19. , 18.7,\n",
              "        32.7, 16.5, 23.9, 31.2, 17.5, 17.2, 23.1, 24.5, 26.6, 22.9, 24.1,\n",
              "        18.6, 30.1, 18.2, 20.6, 17.8, 21.7, 22.7, 22.6, 25. , 19.9, 20.8,\n",
              "        16.8, 21.9, 27.5, 21.9, 23.1, 50. , 50. , 50. , 50. , 50. , 13.8,\n",
              "        13.8, 15. , 13.9, 13.3, 13.1, 10.2, 10.4, 10.9, 11.3, 12.3,  8.8,\n",
              "         7.2, 10.5,  7.4, 10.2, 11.5, 15.1, 23.2,  9.7, 13.8, 12.7, 13.1,\n",
              "        12.5,  8.5,  5. ,  6.3,  5.6,  7.2, 12.1,  8.3,  8.5,  5. , 11.9,\n",
              "        27.9, 17.2, 27.5, 15. , 17.2, 17.9, 16.3,  7. ,  7.2,  7.5, 10.4,\n",
              "         8.8,  8.4, 16.7, 14.2, 20.8, 13.4, 11.7,  8.3, 10.2, 10.9, 11. ,\n",
              "         9.5, 14.5, 14.1, 16.1, 14.3, 11.7, 13.4,  9.6,  8.7,  8.4, 12.8,\n",
              "        10.5, 17.1, 18.4, 15.4, 10.8, 11.8, 14.9, 12.6, 14.1, 13. , 13.4,\n",
              "        15.2, 16.1, 17.8, 14.9, 14.1, 12.7, 13.5, 14.9, 20. , 16.4, 17.7,\n",
              "        19.5, 20.2, 21.4, 19.9, 19. , 19.1, 19.1, 20.1, 19.9, 19.6, 23.2,\n",
              "        29.8, 13.8, 13.3, 16.7, 12. , 14.6, 21.4, 23. , 23.7, 25. , 21.8,\n",
              "        20.6, 21.2, 19.1, 20.6, 15.2,  7. ,  8.1, 13.6, 20.1, 21.8, 24.5,\n",
              "        23.1, 19.7, 18.3, 21.2, 17.5, 16.8, 22.4, 20.6, 23.9, 22. , 11.9]),\n",
              " 'feature_names': array(['CRIM', 'ZN', 'INDUS', 'CHAS', 'NOX', 'RM', 'AGE', 'DIS', 'RAD',\n",
              "        'TAX', 'PTRATIO', 'B', 'LSTAT'], dtype='<U7'),\n",
              " 'DESCR': \".. _boston_dataset:\\n\\nBoston house prices dataset\\n---------------------------\\n\\n**Data Set Characteristics:**  \\n\\n    :Number of Instances: 506 \\n\\n    :Number of Attributes: 13 numeric/categorical predictive. Median Value (attribute 14) is usually the target.\\n\\n    :Attribute Information (in order):\\n        - CRIM     per capita crime rate by town\\n        - ZN       proportion of residential land zoned for lots over 25,000 sq.ft.\\n        - INDUS    proportion of non-retail business acres per town\\n        - CHAS     Charles River dummy variable (= 1 if tract bounds river; 0 otherwise)\\n        - NOX      nitric oxides concentration (parts per 10 million)\\n        - RM       average number of rooms per dwelling\\n        - AGE      proportion of owner-occupied units built prior to 1940\\n        - DIS      weighted distances to five Boston employment centres\\n        - RAD      index of accessibility to radial highways\\n        - TAX      full-value property-tax rate per $10,000\\n        - PTRATIO  pupil-teacher ratio by town\\n        - B        1000(Bk - 0.63)^2 where Bk is the proportion of black people by town\\n        - LSTAT    % lower status of the population\\n        - MEDV     Median value of owner-occupied homes in $1000's\\n\\n    :Missing Attribute Values: None\\n\\n    :Creator: Harrison, D. and Rubinfeld, D.L.\\n\\nThis is a copy of UCI ML housing dataset.\\nhttps://archive.ics.uci.edu/ml/machine-learning-databases/housing/\\n\\n\\nThis dataset was taken from the StatLib library which is maintained at Carnegie Mellon University.\\n\\nThe Boston house-price data of Harrison, D. and Rubinfeld, D.L. 'Hedonic\\nprices and the demand for clean air', J. Environ. Economics & Management,\\nvol.5, 81-102, 1978.   Used in Belsley, Kuh & Welsch, 'Regression diagnostics\\n...', Wiley, 1980.   N.B. Various transformations are used in the table on\\npages 244-261 of the latter.\\n\\nThe Boston house-price data has been used in many machine learning papers that address regression\\nproblems.   \\n     \\n.. topic:: References\\n\\n   - Belsley, Kuh & Welsch, 'Regression diagnostics: Identifying Influential Data and Sources of Collinearity', Wiley, 1980. 244-261.\\n   - Quinlan,R. (1993). Combining Instance-Based and Model-Based Learning. In Proceedings on the Tenth International Conference of Machine Learning, 236-243, University of Massachusetts, Amherst. Morgan Kaufmann.\\n\",\n",
              " 'filename': 'boston_house_prices.csv',\n",
              " 'data_module': 'sklearn.datasets.data'}"
            ]
          },
          "metadata": {},
          "execution_count": 27
        }
      ]
    },
    {
      "cell_type": "code",
      "source": [
        "import pandas as pd\n",
        "\n",
        "#説明変数\n",
        "X_array = boston.data\n",
        "#目的変数\n",
        "y_array = boston.target\n",
        "df = pd.DataFrame(X_array, columns = boston.feature_names).assign(MEDV=np.array(y_array))\n",
        "\n",
        "df"
      ],
      "metadata": {
        "id": "Bit7KQbCpPlG"
      },
      "execution_count": null,
      "outputs": []
    },
    {
      "cell_type": "code",
      "metadata": {
        "id": "rgr22ulXSWDm"
      },
      "source": [
        "# 説明変数：13項目のうち1つだけ使う\n",
        "x = boston.data[:, 5]\n",
        "# 目的変数：住宅価格のデータを使う\n",
        "y = boston.target"
      ],
      "execution_count": 29,
      "outputs": []
    },
    {
      "cell_type": "code",
      "metadata": {
        "id": "8WzvwTCPTlfX"
      },
      "source": [
        "# ----------------散布図を作成-------------------\n",
        "plt.scatter(x, y, s=5, c=\"red\")"
      ],
      "execution_count": null,
      "outputs": []
    },
    {
      "cell_type": "markdown",
      "metadata": {
        "id": "ucm2I2tZZwdV"
      },
      "source": [
        "#**最急降下法について学習しよう**\n",
        "Cost: J = (sum((θ×X - y)^2)/2m <br>\n",
        "Cost function: J(θ) =1/2m * Σ(hθ(x(i)^-y(i)))^2 <br>\n",
        "\n",
        "最急降下法：(Cost function J(θ)の微分を減算する）<br>\n",
        "θj = θj - α * 1/m * Σ((h(x(i)-y(i))*Xj(i) )"
      ]
    },
    {
      "cell_type": "code",
      "source": [
        "#今回は一次関数で近似します。\n",
        "#y=bx+a (y=a*1 +b*x)の係数[a,b]としてランダムな値を作成する\n",
        "theta = np.random.random(len(X[0]))\n",
        "theta"
      ],
      "metadata": {
        "id": "wXB9HTc10vpF",
        "outputId": "32dd36ac-229d-4f00-e6c8-37fd3282702d",
        "colab": {
          "base_uri": "https://localhost:8080/"
        }
      },
      "execution_count": 70,
      "outputs": [
        {
          "output_type": "execute_result",
          "data": {
            "text/plain": [
              "array([0.50308317, 0.01376845])"
            ]
          },
          "metadata": {},
          "execution_count": 70
        }
      ]
    },
    {
      "cell_type": "code",
      "source": [
        "# [1,x]に相当する行列を作成する\n",
        "X = np.array([[1, v] for v in x])\n",
        "X"
      ],
      "metadata": {
        "id": "l8NhvAI_0k_s",
        "outputId": "f8e90492-117c-4905-b062-b4c44664d613",
        "colab": {
          "base_uri": "https://localhost:8080/"
        }
      },
      "execution_count": 71,
      "outputs": [
        {
          "output_type": "execute_result",
          "data": {
            "text/plain": [
              "array([[1.   , 6.575],\n",
              "       [1.   , 6.421],\n",
              "       [1.   , 7.185],\n",
              "       ...,\n",
              "       [1.   , 6.976],\n",
              "       [1.   , 6.794],\n",
              "       [1.   , 6.03 ]])"
            ]
          },
          "metadata": {},
          "execution_count": 71
        }
      ]
    },
    {
      "cell_type": "code",
      "source": [
        "# 微分値により係数をどれぐらい動かすかを決定する\n",
        "alpha = 0.01"
      ],
      "metadata": {
        "id": "FNIDbnDs2wVm"
      },
      "execution_count": 72,
      "outputs": []
    },
    {
      "cell_type": "code",
      "source": [
        "y_pred = np.dot(X, theta)\n",
        "y_pred"
      ],
      "metadata": {
        "id": "ekiBDRYTFxEq",
        "outputId": "81469030-2172-482b-e941-9981593adb57",
        "colab": {
          "base_uri": "https://localhost:8080/"
        }
      },
      "execution_count": 73,
      "outputs": [
        {
          "output_type": "execute_result",
          "data": {
            "text/plain": [
              "array([0.59361072, 0.59149038, 0.60200948, 0.59943478, 0.60148627,\n",
              "       0.5916143 , 0.58585908, 0.58806204, 0.5806133 , 0.58574894,\n",
              "       0.59088457, 0.58581778, 0.58416556, 0.58499167, 0.58701563,\n",
              "       0.5834083 , 0.58479891, 0.58555618, 0.57820383, 0.58193508,\n",
              "       0.57977343, 0.58521197, 0.58764898, 0.58311916, 0.58464746,\n",
              "       0.58017271, 0.58311916, 0.58634098, 0.59250925, 0.5949738 ,\n",
              "       0.58174232, 0.58668519, 0.58500544, 0.5815771 , 0.58701563,\n",
              "       0.58477138, 0.58350468, 0.5836286 , 0.58522574, 0.59388609,\n",
              "       0.59979276, 0.59629557, 0.58802073, 0.58859901, 0.58664389,\n",
              "       0.5813155 , 0.58274741, 0.58610692, 0.57741902, 0.58021402,\n",
              "       0.58518443, 0.58727723, 0.59272954, 0.58566633, 0.5841518 ,\n",
              "       0.60289066, 0.59096718, 0.59692892, 0.58769029, 0.58468877,\n",
              "       0.58212783, 0.58522574, 0.59197228, 0.59618542, 0.60089423,\n",
              "       0.58968671, 0.58276118, 0.58401411, 0.58010387, 0.58411049,\n",
              "       0.59143531, 0.58515689, 0.58658881, 0.58906713, 0.58945265,\n",
              "       0.58963164, 0.58953526, 0.58762145, 0.58888814, 0.58395904,\n",
              "       0.59570353, 0.59421653, 0.58985193, 0.58799319, 0.59104979,\n",
              "       0.59436799, 0.58590039, 0.58735985, 0.59955869, 0.60055002,\n",
              "       0.59143531, 0.59127008, 0.59177952, 0.58859901, 0.58912221,\n",
              "       0.59429914, 0.58793812, 0.61418079, 0.61075244, 0.60518999,\n",
              "       0.59570353, 0.59644702, 0.59127008, 0.58758014, 0.58799319,\n",
              "       0.58364236, 0.58343584, 0.58744246, 0.59222011, 0.58884684,\n",
              "       0.58837871, 0.5955383 , 0.58449601, 0.58696056, 0.58919105,\n",
              "       0.58470253, 0.58811711, 0.585983  , 0.5839315 , 0.58199015,\n",
              "       0.58390396, 0.58574894, 0.58515689, 0.58371121, 0.58402788,\n",
              "       0.5855011 , 0.58036547, 0.58146695, 0.59162806, 0.58069592,\n",
              "       0.59199981, 0.59018238, 0.59081573, 0.58324308, 0.58234813,\n",
              "       0.59030629, 0.58489529, 0.59194474, 0.58372497, 0.5877729 ,\n",
              "       0.58808957, 0.57218701, 0.5774741 , 0.57836905, 0.57058987,\n",
              "       0.58748376, 0.580572  , 0.57090655, 0.57448634, 0.58014518,\n",
              "       0.58737361, 0.57748787, 0.57209063, 0.58168724, 0.58746999,\n",
              "       0.58778667, 0.57567043, 0.59867751, 0.58660258, 0.59271577,\n",
              "       0.58913598, 0.60619508, 0.61050461, 0.61839393, 0.58368367,\n",
              "       0.58708448, 0.6122532 , 0.58400034, 0.590086  , 0.59122878,\n",
              "       0.58397281, 0.58404165, 0.57980097, 0.59142154, 0.58375251,\n",
              "       0.59321144, 0.58596923, 0.59003092, 0.59753473, 0.59918694,\n",
              "       0.60999518, 0.58767652, 0.60159642, 0.5934455 , 0.58024156,\n",
              "       0.58780044, 0.61090389, 0.59646079, 0.59334912, 0.60200948,\n",
              "       0.59878766, 0.59586875, 0.6019131 , 0.59670862, 0.59401001,\n",
              "       0.61150971, 0.60341386, 0.60093554, 0.60323487, 0.5991181 ,\n",
              "       0.60132105, 0.58792435, 0.60786107, 0.6112068 , 0.61369889,\n",
              "       0.5841931 , 0.59018238, 0.58270611, 0.58657504, 0.57666176,\n",
              "       0.58514312, 0.57748787, 0.58303655, 0.59085703, 0.57759801,\n",
              "       0.58819972, 0.5841518 , 0.59453321, 0.58501921, 0.59082949,\n",
              "       0.59878766, 0.58795189, 0.59779633, 0.59420276, 0.61689317,\n",
              "       0.62321289, 0.6137815 , 0.60170657, 0.60890747, 0.59329405,\n",
              "       0.58543226, 0.60513491, 0.61787073, 0.61663157, 0.59568976,\n",
              "       0.58687795, 0.59438175, 0.60439142, 0.59231649, 0.59403754,\n",
              "       0.59804416, 0.58700187, 0.59062297, 0.59110486, 0.5800901 ,\n",
              "       0.58025533, 0.58718086, 0.58880553, 0.5916556 , 0.59557961,\n",
              "       0.5923991 , 0.59172444, 0.59887027, 0.61679679, 0.58718086,\n",
              "       0.58398658, 0.60571319, 0.62292375, 0.60404721, 0.5972869 ,\n",
              "       0.60225731, 0.60662191, 0.6187106 , 0.6039646 , 0.60229861,\n",
              "       0.57963575, 0.59965507, 0.61731999, 0.60593348, 0.58459239,\n",
              "       0.58371121, 0.58899829, 0.59310129, 0.60897631, 0.59613035,\n",
              "       0.59745212, 0.60313849, 0.5970666 , 0.59233026, 0.59687384,\n",
              "       0.61075244, 0.59902172, 0.60834296, 0.61217059, 0.60067394,\n",
              "       0.59193097, 0.58886061, 0.58857147, 0.59003092, 0.59347304,\n",
              "       0.5975485 , 0.60150004, 0.59436799, 0.58744246, 0.58581778,\n",
              "       0.59502887, 0.59325274, 0.58280249, 0.59044398, 0.60002682,\n",
              "       0.59768618, 0.59381725, 0.59250925, 0.59921448, 0.60271167,\n",
              "       0.59417523, 0.60524506, 0.59738328, 0.59443683, 0.58530835,\n",
              "       0.57155367, 0.58737361, 0.58601054, 0.58935627, 0.59350057,\n",
              "       0.58163217, 0.58450978, 0.58269234, 0.59095341, 0.5872497 ,\n",
              "       0.59155922, 0.5908708 , 0.58625837, 0.58167348, 0.59140777,\n",
              "       0.59162806, 0.58998962, 0.58683664, 0.58387643, 0.59027876,\n",
              "       0.58767652, 0.58164594, 0.58612068, 0.59004469, 0.58996208,\n",
              "       0.5862033 , 0.5838902 , 0.58424818, 0.5865062 , 0.58548734,\n",
              "       0.58525327, 0.60278051, 0.59312883, 0.5952767 , 0.59772749,\n",
              "       0.58588662, 0.58428948, 0.59279838, 0.59443683, 0.59862244,\n",
              "       0.5924404 , 0.5936658 , 0.58409672, 0.59571729, 0.5810539 ,\n",
              "       0.58481268, 0.58861277, 0.5911324 , 0.58744246, 0.58723593,\n",
              "       0.59117371, 0.58914974, 0.57690959, 0.58298148, 0.62397015,\n",
              "       0.55211261, 0.57141598, 0.55627069, 0.57151236, 0.59509771,\n",
              "       0.59968261, 0.58866785, 0.58397281, 0.57063118, 0.56005701,\n",
              "       0.60377184, 0.59462959, 0.59662601, 0.59092587, 0.58876423,\n",
              "       0.59902172, 0.59319767, 0.5793053 , 0.57908501, 0.56322375,\n",
              "       0.57573927, 0.56713399, 0.57192541, 0.5702732 , 0.57729511,\n",
              "       0.58174232, 0.58639605, 0.57242108, 0.58835117, 0.58413803,\n",
              "       0.5921788 , 0.59127008, 0.58221045, 0.57816252, 0.58365613,\n",
              "       0.58551487, 0.59041644, 0.59125632, 0.5767306 , 0.57923646,\n",
              "       0.58132926, 0.56005701, 0.58029663, 0.58042055, 0.59742458,\n",
              "       0.58234813, 0.59473973, 0.56680355, 0.57405952, 0.56530279,\n",
              "       0.59166937, 0.59646079, 0.57611102, 0.58510182, 0.59703907,\n",
              "       0.5913527 , 0.58577647, 0.58084737, 0.58711201, 0.57970459,\n",
              "       0.58426194, 0.58344961, 0.58847509, 0.58835117, 0.59092587,\n",
              "       0.59048528, 0.59716298, 0.59154545, 0.59169691, 0.5885577 ,\n",
              "       0.59435422, 0.59204112, 0.58778667, 0.58479891, 0.58055823,\n",
              "       0.58318801, 0.59128385, 0.58870915, 0.59237156, 0.58368367,\n",
              "       0.59201358, 0.5903889 , 0.58914974, 0.58824103, 0.59143531,\n",
              "       0.59600643, 0.5947122 , 0.58978309, 0.60487331, 0.59571729,\n",
              "       0.5929223 , 0.58536342, 0.58481268, 0.58983817, 0.58680911,\n",
              "       0.59534555, 0.5908708 , 0.59005846, 0.59275708, 0.58857147,\n",
              "       0.58237567, 0.58503298, 0.58573517, 0.584675  , 0.58174232,\n",
              "       0.58799319, 0.58884684, 0.59171068, 0.59918694, 0.57780454,\n",
              "       0.58792435, 0.59235779, 0.57611102, 0.58824103, 0.58884684,\n",
              "       0.58902583, 0.5960202 , 0.60030219, 0.58241697, 0.58391773,\n",
              "       0.58998962, 0.58726347, 0.58438586, 0.57817629, 0.57762555,\n",
              "       0.57320588, 0.5854598 , 0.5854598 , 0.58165971, 0.584675  ,\n",
              "       0.58115027, 0.57729511, 0.58285756, 0.58595546, 0.57975966,\n",
              "       0.58606561, 0.59385855, 0.58734608, 0.59913187, 0.59662601,\n",
              "       0.58610692])"
            ]
          },
          "metadata": {},
          "execution_count": 73
        }
      ]
    },
    {
      "cell_type": "code",
      "source": [
        "# w0の項を追加するためにxに小細工をする\n",
        "X = np.array([[1, v] for v in x])\n",
        "# ランダムな値をw0, w1の初期値に設定する\n",
        "theta = np.random.random(len(X[0]))\n",
        "# ちょっと変えるための度合いを決める\n",
        "alpha = 0.01\n",
        "\n",
        "# ------wをちょっとずつ変えていくループを実行------\n",
        "# ループ回数100回、1000回、10000回、100000回でwを保存する\n",
        "theta_1 = []\n",
        "theta_10 = []\n",
        "theta_100 = []\n",
        "theta_1000 = []\n",
        "theta_10000 = []\n",
        "for i in range(100000):\n",
        "    # y_pred=b*1+a*xに先ほどの行列を代入して予測値y_predを計算する。dotは行列の積を計算するコード\n",
        "    y_pred = np.dot(X, theta)\n",
        "    # 最小二乗法の損失関数 loss_func = (y-y_pred)^2 = (y-theta*X)^2\n",
        "    # loss_funcをthetaで微分すると、2*theta*X^2  2Xy = 2(theta*X-y)*X = -2(y-y_pred)*X\n",
        "    dw = -2*np.dot((y - y_pred), X) / len(X)\n",
        "    # wをちょっとだけ動かす\n",
        "    theta -= alpha * dw\n",
        "\n",
        "    #1, 10, 100, 1000, 10000, 100000回目のthetaを記録\n",
        "    if i == 1-1:\n",
        "        # listはnp.copyしないとコピー元と同期してしまうので注意！\n",
        "        theta_1 = np.copy(theta)\n",
        "        print(f\"dw_1: {dw}\")\n",
        "    if i == 10-1:\n",
        "        theta_10 = np.copy(theta)\n",
        "        print(f\"dw_10: {dw}\")\n",
        "    if i == 100-1:\n",
        "        theta_100 = np.copy(theta)\n",
        "        print(f\"dw_100: {dw}\")\n",
        "    elif i == 1000-1:\n",
        "        theta_1000 = np.copy(theta)\n",
        "        print(f\"dw_1000: {dw}\")\n",
        "    elif i == 10000-1:\n",
        "        theta_10000 = np.copy(theta)\n",
        "        print(f\"dw_10000: {dw}\")\n",
        "    elif i == 100000-1:\n",
        "        theta_100000 = np.copy(theta)\n",
        "        print(f\"dw_100000: {dw}\")"
      ],
      "metadata": {
        "id": "Dws8TsKa0xse",
        "outputId": "9a1fcfed-7326-48fe-b237-3ff044ee482a",
        "colab": {
          "base_uri": "https://localhost:8080/"
        }
      },
      "execution_count": 85,
      "outputs": [
        {
          "output_type": "stream",
          "name": "stdout",
          "text": [
            "dw_1: [ -37.84497687 -246.38117302]\n",
            "dw_10: [ 0.86411072 -0.13589379]\n",
            "dw_100: [ 0.84561561 -0.13293506]\n",
            "dw_1000: [ 0.68103509 -0.10706217]\n",
            "dw_10000: [ 0.07818698 -0.01229139]\n",
            "dw_100000: [ 3.11014877e-11 -4.94723103e-12]\n"
          ]
        }
      ]
    },
    {
      "cell_type": "code",
      "metadata": {
        "id": "9HtLG2QlU3lf",
        "colab": {
          "base_uri": "https://localhost:8080/",
          "height": 430
        },
        "outputId": "b6f1cf9c-3550-4c7f-a4a3-20c80358e8dd"
      },
      "source": [
        "# ----------------散布図を作成-------------------\n",
        "plt.scatter(x, y, s=1)\n",
        "\n",
        "# ----------------計算式の結果-------------------\n",
        "plt.plot(x, np.dot(X, theta_1), label='org_1')\n",
        "plt.plot(x, np.dot(X, theta_10), label='org_10')\n",
        "plt.plot(x, np.dot(X, theta_100), label='org_100')\n",
        "plt.plot(x, np.dot(X, theta_1000), label='org_1000')\n",
        "plt.plot(x, np.dot(X, theta_10000), label='org_10000')\n",
        "plt.plot(x, np.dot(X, theta_100000), c='black', linewidth=1.0, label='org_100000')\n",
        "\n",
        "\n",
        "plt.legend()\n",
        "plt.show()"
      ],
      "execution_count": 86,
      "outputs": [
        {
          "output_type": "display_data",
          "data": {
            "text/plain": [
              "<Figure size 640x480 with 1 Axes>"
            ],
            "image/png": "[encoded data removed]"
          },
          "metadata": {}
        }
      ]
    },
    {
      "cell_type": "code",
      "metadata": {
        "id": "nBLCn6ClRugG"
      },
      "source": [
        "# ######### sklearnのツールLinearRegressionを使って回帰 ###########\n",
        "# ものすごく簡単...\n",
        "lr = LinearRegression(fit_intercept=True)\n",
        "lr.fit(X, y)\n",
        "pred = lr.predict(X)"
      ],
      "execution_count": null,
      "outputs": []
    },
    {
      "cell_type": "code",
      "metadata": {
        "id": "GL9VvepeVBIu",
        "colab": {
          "base_uri": "https://localhost:8080/",
          "height": 448
        },
        "outputId": "7f99c216-4707-4cd9-d437-afb97f3f5f55"
      },
      "source": [
        "# ----------------散布図を作成-------------------\n",
        "plt.scatter(x, y, s=1)\n",
        "# ---------------sklearnの結果------------------\n",
        "plt.plot(x, pred, c='y', linestyle='dashdot', label='sklearn')\n"
      ],
      "execution_count": null,
      "outputs": [
        {
          "output_type": "execute_result",
          "data": {
            "text/plain": [
              "[<matplotlib.lines.Line2D at 0x7bbb820e0d30>]"
            ]
          },
          "metadata": {},
          "execution_count": 14
        },
        {
          "output_type": "display_data",
          "data": {
            "text/plain": [
              "<Figure size 640x480 with 1 Axes>"
            ],
            "image/png": "[encoded data removed]"
          },
          "metadata": {}
        }
      ]
    }
  ]
}