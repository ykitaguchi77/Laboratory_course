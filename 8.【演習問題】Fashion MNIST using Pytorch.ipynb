{
  "nbformat": 4,
  "nbformat_minor": 0,
  "metadata": {
    "colab": {
      "name": "Untitled26.ipynb",
      "provenance": [],
      "include_colab_link": true
    },
    "kernelspec": {
      "name": "python3",
      "display_name": "Python 3"
    },
    "accelerator": "GPU"
  },
  "cells": [
    {
      "cell_type": "markdown",
      "metadata": {
        "id": "view-in-github",
        "colab_type": "text"
      },
      "source": [
        "<a href=\"https://colab.research.google.com/github/ykitaguchi77/Laboratory_course/blob/master/8.%E3%80%90%E6%BC%94%E7%BF%92%E5%95%8F%E9%A1%8C%E3%80%91Fashion%20MNIST%20using%20Pytorch.ipynb\" target=\"_parent\"><img src=\"https://colab.research.google.com/assets/colab-badge.svg\" alt=\"Open In Colab\"/></a>"
      ]
    },
    {
      "cell_type": "markdown",
      "metadata": {
        "id": "81PcmcH6JmsR"
      },
      "source": [
        "#【演習】Fashion MNIST using Tensorflow 2.0"
      ]
    },
    {
      "cell_type": "markdown",
      "metadata": {
        "id": "mrtyn5mDpc1s"
      },
      "source": [
        "Fashion MNIST:\n",
        "10種類のファッションの絵柄\n",
        "\n",
        "Class_name\n",
        "0. T-shirt/top\n",
        "1. Trouser\n",
        "2. Pullover\n",
        "3. Dress\n",
        "4. Coat\n",
        "5. Sandal\n",
        "6. Shirt\n",
        "7. Sneaker\n",
        "8. Bag\n",
        "9. Ankle boot\n",
        "\n",
        "MNISTのスクリプトを参考にして分類してみましょう。"
      ]
    },
    {
      "cell_type": "markdown",
      "metadata": {
        "id": "Vd3V2ma_JXfC"
      },
      "source": [
        "#Pytorchのセットアップ"
      ]
    },
    {
      "cell_type": "code",
      "metadata": {
        "id": "CXPxTlqUazD8",
        "colab": {
          "base_uri": "https://localhost:8080/"
        },
        "outputId": "7ec07891-823f-4c2f-97a6-c7175bf3bb22"
      },
      "source": [
        "# PytorchでMNIST\n",
        "import torch\n",
        "import torch.nn as nn\n",
        "import torch.nn.functional as F\n",
        "from torchvision import datasets, transforms\n",
        "from torch.utils.data import DataLoader\n",
        "\n",
        "\n",
        "# CUDAが利用可能かどうかを確認し、利用可能な場合はデバイスをCUDAに設定\n",
        "device = torch.device(\"cuda\" if torch.cuda.is_available() else \"cpu\")\n",
        "print(f'device: {device}')"
      ],
      "execution_count": 1,
      "outputs": [
        {
          "output_type": "stream",
          "name": "stdout",
          "text": [
            "device: cuda\n"
          ]
        }
      ]
    },
    {
      "cell_type": "markdown",
      "metadata": {
        "id": "S7STBs56jFJi"
      },
      "source": [
        "#データのダウンロードと確認"
      ]
    },
    {
      "cell_type": "code",
      "metadata": {
        "id": "0EnrBG2Oit3e",
        "colab": {
          "base_uri": "https://localhost:8080/"
        },
        "outputId": "0768f6ff-1367-4283-84a8-4cef720a136b"
      },
      "source": [
        "# Download train data from open datasets.\n",
        "train_data= datasets.FashionMNIST(root='data', train=True, download=True, transform=transforms.ToTensor(),)\n",
        "\n",
        "# Download test data from open datsets.\n",
        "test_data=datasets.FashionMNIST(root='data', train=False, download=True, transform=transforms.ToTensor(),)"
      ],
      "execution_count": 3,
      "outputs": [
        {
          "output_type": "stream",
          "name": "stdout",
          "text": [
            "Downloading http://fashion-mnist.s3-website.eu-central-1.amazonaws.com/train-images-idx3-ubyte.gz\n",
            "Downloading http://fashion-mnist.s3-website.eu-central-1.amazonaws.com/train-images-idx3-ubyte.gz to data/FashionMNIST/raw/train-images-idx3-ubyte.gz\n"
          ]
        },
        {
          "output_type": "stream",
          "name": "stderr",
          "text": [
            "100%|██████████| 26421880/26421880 [00:02<00:00, 11753563.17it/s]\n"
          ]
        },
        {
          "output_type": "stream",
          "name": "stdout",
          "text": [
            "Extracting data/FashionMNIST/raw/train-images-idx3-ubyte.gz to data/FashionMNIST/raw\n",
            "\n",
            "Downloading http://fashion-mnist.s3-website.eu-central-1.amazonaws.com/train-labels-idx1-ubyte.gz\n",
            "Downloading http://fashion-mnist.s3-website.eu-central-1.amazonaws.com/train-labels-idx1-ubyte.gz to data/FashionMNIST/raw/train-labels-idx1-ubyte.gz\n"
          ]
        },
        {
          "output_type": "stream",
          "name": "stderr",
          "text": [
            "100%|██████████| 29515/29515 [00:00<00:00, 202197.94it/s]\n"
          ]
        },
        {
          "output_type": "stream",
          "name": "stdout",
          "text": [
            "Extracting data/FashionMNIST/raw/train-labels-idx1-ubyte.gz to data/FashionMNIST/raw\n",
            "\n",
            "Downloading http://fashion-mnist.s3-website.eu-central-1.amazonaws.com/t10k-images-idx3-ubyte.gz\n",
            "Downloading http://fashion-mnist.s3-website.eu-central-1.amazonaws.com/t10k-images-idx3-ubyte.gz to data/FashionMNIST/raw/t10k-images-idx3-ubyte.gz\n"
          ]
        },
        {
          "output_type": "stream",
          "name": "stderr",
          "text": [
            "100%|██████████| 4422102/4422102 [00:01<00:00, 3757576.91it/s]\n"
          ]
        },
        {
          "output_type": "stream",
          "name": "stdout",
          "text": [
            "Extracting data/FashionMNIST/raw/t10k-images-idx3-ubyte.gz to data/FashionMNIST/raw\n",
            "\n",
            "Downloading http://fashion-mnist.s3-website.eu-central-1.amazonaws.com/t10k-labels-idx1-ubyte.gz\n",
            "Downloading http://fashion-mnist.s3-website.eu-central-1.amazonaws.com/t10k-labels-idx1-ubyte.gz to data/FashionMNIST/raw/t10k-labels-idx1-ubyte.gz\n"
          ]
        },
        {
          "output_type": "stream",
          "name": "stderr",
          "text": [
            "100%|██████████| 5148/5148 [00:00<00:00, 6380696.51it/s]"
          ]
        },
        {
          "output_type": "stream",
          "name": "stdout",
          "text": [
            "Extracting data/FashionMNIST/raw/t10k-labels-idx1-ubyte.gz to data/FashionMNIST/raw\n",
            "\n"
          ]
        },
        {
          "output_type": "stream",
          "name": "stderr",
          "text": [
            "\n"
          ]
        }
      ]
    },
    {
      "cell_type": "code",
      "source": [
        "import matplotlib.pyplot as plt\n",
        "\n",
        "labels_map={\n",
        "    0: 'T-shirt',\n",
        "    1: 'Trouser',\n",
        "    2: 'Pullover',\n",
        "    3: 'Dress',\n",
        "    4: 'Coat',\n",
        "    5: 'Sandal',\n",
        "    6: 'Shirt',\n",
        "    7: 'Sneaker',\n",
        "    8: 'Bag',\n",
        "    9: 'Ankle Boot',\n",
        "}\n",
        "\n",
        "figure = plt.figure(figsize = (10,10))\n",
        "cols, rows = 3, 3\n",
        "\n",
        "for i in range (1, cols*rows + 1):\n",
        "    sample_idx = torch.randint(len(train_data), size = (1,)).item()\n",
        "    image, label = train_data[sample_idx]\n",
        "    figure.add_subplot(rows, cols, i)\n",
        "    plt.title(labels_map[label])\n",
        "    plt.axis('off')\n",
        "    plt.imshow(image.squeeze(), cmap='gray')\n",
        "plt.show()"
      ],
      "metadata": {
        "id": "qlGJ6CfCW16p",
        "outputId": "9cb270c1-9f6d-4e18-966a-41e4ac730948",
        "colab": {
          "base_uri": "https://localhost:8080/",
          "height": 829
        }
      },
      "execution_count": 4,
      "outputs": [
        {
          "output_type": "display_data",
          "data": {
            "text/plain": [
              "<Figure size 1000x1000 with 9 Axes>"
            ],
            "image/png": "[encoded data removed]"
          },
          "metadata": {}
        }
      ]
    },
    {
      "cell_type": "markdown",
      "metadata": {
        "id": "apRRpWh8lDkX"
      },
      "source": [
        "#DatasetとDataloaderの設定"
      ]
    },
    {
      "cell_type": "code",
      "metadata": {
        "id": "R-vmZgoukm7E"
      },
      "source": [],
      "execution_count": null,
      "outputs": []
    },
    {
      "cell_type": "markdown",
      "metadata": {
        "id": "N-4jOzHtjAi0"
      },
      "source": [
        "#Modelの作成"
      ]
    },
    {
      "cell_type": "code",
      "metadata": {
        "id": "2RB0zH7Uj-eM"
      },
      "source": [],
      "execution_count": null,
      "outputs": []
    },
    {
      "cell_type": "markdown",
      "metadata": {
        "id": "_aEe2HfhkEfu"
      },
      "source": [
        "#モデルの訓練"
      ]
    },
    {
      "cell_type": "code",
      "metadata": {
        "id": "-6jjFO8ukHWh"
      },
      "source": [],
      "execution_count": null,
      "outputs": []
    },
    {
      "cell_type": "markdown",
      "metadata": {
        "id": "XBxRadu7ZFjC"
      },
      "source": [
        "#推測結果の表示\n"
      ]
    },
    {
      "cell_type": "code",
      "metadata": {
        "id": "H2dlVjuzmkMR"
      },
      "source": [],
      "execution_count": null,
      "outputs": []
    }
  ]
}