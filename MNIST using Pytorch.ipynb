{
  "nbformat": 4,
  "nbformat_minor": 0,
  "metadata": {
    "colab": {
      "provenance": [],
      "gpuType": "T4",
      "authorship_tag": "ABX9TyNP05x6uQkQUjohYkqiyPMC",
      "include_colab_link": true
    },
    "kernelspec": {
      "name": "python3",
      "display_name": "Python 3"
    },
    "language_info": {
      "name": "python"
    },
    "accelerator": "GPU"
  },
  "cells": [
    {
      "cell_type": "markdown",
      "metadata": {
        "id": "view-in-github",
        "colab_type": "text"
      },
      "source": [
        "<a href=\"https://colab.research.google.com/github/ykitaguchi77/Laboratory_course/blob/master/MNIST%20using%20Pytorch.ipynb\" target=\"_parent\"><img src=\"https://colab.research.google.com/assets/colab-badge.svg\" alt=\"Open In Colab\"/></a>"
      ]
    },
    {
      "cell_type": "markdown",
      "source": [
        "#**PytorchでMNIST**"
      ],
      "metadata": {
        "id": "4MxyuY4a0wVd"
      }
    },
    {
      "cell_type": "code",
      "execution_count": null,
      "metadata": {
        "colab": {
          "base_uri": "https://localhost:8080/"
        },
        "id": "bi22goZutoYe",
        "outputId": "63937254-1aad-40e1-b19d-ffae96c21af8"
      },
      "outputs": [
        {
          "output_type": "stream",
          "name": "stdout",
          "text": [
            "Epoch 0, ,\n",
            "Training Loss: 0.2860, Validation Loss: 0.0921,\n",
            "Training Accuracy: 0.9129, Validation Accuracy: 0.9716, \n",
            "\n",
            "Epoch 1, ,\n",
            "Training Loss: 0.0813, Validation Loss: 0.0533,\n",
            "Training Accuracy: 0.9756, Validation Accuracy: 0.9831, \n",
            "\n",
            "Epoch 2, ,\n",
            "Training Loss: 0.0569, Validation Loss: 0.0422,\n",
            "Training Accuracy: 0.9822, Validation Accuracy: 0.9857, \n",
            "\n",
            "Epoch 3, ,\n",
            "Training Loss: 0.0464, Validation Loss: 0.0425,\n",
            "Training Accuracy: 0.9857, Validation Accuracy: 0.9866, \n",
            "\n",
            "Epoch 4, ,\n",
            "Training Loss: 0.0383, Validation Loss: 0.0350,\n",
            "Training Accuracy: 0.9876, Validation Accuracy: 0.9894, \n",
            "\n",
            "Epoch 5, ,\n",
            "Training Loss: 0.0328, Validation Loss: 0.0300,\n",
            "Training Accuracy: 0.9895, Validation Accuracy: 0.9911, \n",
            "\n",
            "Epoch 6, ,\n",
            "Training Loss: 0.0285, Validation Loss: 0.0355,\n",
            "Training Accuracy: 0.9909, Validation Accuracy: 0.9888, \n",
            "\n"
          ]
        }
      ],
      "source": [
        "# PytorchでMNIST\n",
        "import torch\n",
        "import torch.nn as nn\n",
        "import torch.nn.functional as F\n",
        "import torchvision.datasets as datasets\n",
        "import torchvision.transforms as transforms\n",
        "\n",
        "\n",
        "# データの準備\n",
        "mnist_train = datasets.MNIST(root='./data', train=True, download=True, transform=transforms.ToTensor())\n",
        "mnist_test = datasets.MNIST(root='./data', train=False, download=True, transform=transforms.ToTensor())\n",
        "\n",
        "# データローダーの定義\n",
        "train_loader = torch.utils.data.DataLoader(mnist_train, batch_size=64, shuffle=True)\n",
        "test_loader = torch.utils.data.DataLoader(mnist_test, batch_size=1000, shuffle=False)\n",
        "\n",
        "\n",
        "# モデルの定義\n",
        "class Net(nn.Module):\n",
        "    def __init__(self):\n",
        "        super().__init__()\n",
        "        self.conv1 = nn.Conv2d(1, 10, kernel_size=5)\n",
        "        self.conv2 = nn.Conv2d(10, 20, kernel_size=5)\n",
        "        self.fc1 = nn.Linear(320, 50)\n",
        "        self.fc2 = nn.Linear(50, 10)\n",
        "\n",
        "    def forward(self, x):\n",
        "        x = F.relu(self.conv1(x))\n",
        "        x = F.max_pool2d(x, 2)\n",
        "        x = F.relu(self.conv2(x))\n",
        "        x = F.max_pool2d(x, 2)\n",
        "        x = x.view(-1, 320)\n",
        "        x = F.relu(self.fc1(x))\n",
        "        x = self.fc2(x)\n",
        "        return x\n",
        "\n",
        "# モデルの学習と評価\n",
        "model = Net()\n",
        "optimizer = torch.optim.Adam(model.parameters(), lr=0.001)\n",
        "loss_fn = nn.CrossEntropyLoss()\n",
        "\n",
        "for epoch in range(10):\n",
        "    model.train()\n",
        "    total_train_loss = 0\n",
        "    total_train_correct = 0\n",
        "    total_train = 0\n",
        "\n",
        "    for data, target in train_loader:\n",
        "        optimizer.zero_grad()\n",
        "\n",
        "        #forward\n",
        "        output = model(data)\n",
        "        loss = loss_fn(output, target)\n",
        "        total_train_loss += loss.item()\n",
        "\n",
        "        #backward\n",
        "        loss.backward()\n",
        "        optimizer.step()\n",
        "\n",
        "        #calculate train_accuracy\n",
        "        _, predicted = torch.max(output.data, 1)\n",
        "        total_train += target.size(0)\n",
        "        total_train_correct += (predicted == target).sum().item()\n",
        "\n",
        "    train_loss = total_train_loss / len(train_loader)\n",
        "    train_acc = total_train_correct / total_train\n",
        "\n",
        "    # テストデータでの評価\n",
        "    model.eval()\n",
        "    total_val_loss = 0\n",
        "    total_val_correct = 0\n",
        "    total_val = 0\n",
        "    with torch.no_grad():\n",
        "        for data, target in test_loader:\n",
        "            output = model(data)\n",
        "            loss = loss_fn(output, target)\n",
        "            total_val_loss += loss.item()\n",
        "\n",
        "            _, predicted = torch.max(output.data, 1)\n",
        "            total_val += target.size(0)\n",
        "            total_val_correct += (predicted == target).sum().item()\n",
        "\n",
        "    val_loss = total_val_loss / len(test_loader)\n",
        "    val_acc = total_val_correct / total_val\n",
        "\n",
        "    print(f'Epoch {epoch},\\n'\n",
        "          f'Training Loss: {train_loss:.4f}, Validation Loss: {val_loss:.4f},\\n'\n",
        "          f'Training Accuracy: {train_acc:.4f}, Validation Accuracy: {val_acc:.4f}, \\n')\n",
        "\n",
        "# モデルの評価\n",
        "model.eval()\n",
        "correct = 0\n",
        "total = 0\n",
        "with torch.no_grad():\n",
        "    for data, target in test_loader:\n",
        "        output = model(data)\n",
        "        _, predicted = torch.max(output.data, 1)\n",
        "        total += target.size(0)  # Ensure 'target' is treated as a tensor\n",
        "        correct += (predicted == target).sum().item()\n",
        "\n",
        "print('Accuracy:', correct / total)\n"
      ]
    },
    {
      "cell_type": "code",
      "source": [],
      "metadata": {
        "id": "aF3ZeuPKt93C"
      },
      "execution_count": null,
      "outputs": []
    }
  ]
}